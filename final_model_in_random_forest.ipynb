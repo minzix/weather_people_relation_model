{
  "nbformat": 4,
  "nbformat_minor": 0,
  "metadata": {
    "colab": {
      "provenance": [],
      "include_colab_link": true
    },
    "kernelspec": {
      "name": "python3",
      "display_name": "Python 3"
    },
    "language_info": {
      "name": "python"
    }
  },
  "cells": [
    {
      "cell_type": "markdown",
      "metadata": {
        "id": "view-in-github",
        "colab_type": "text"
      },
      "source": [
        "<a href=\"https://colab.research.google.com/github/minzix/weather_people_relation_model/blob/main/final_model_in_random_forest.ipynb\" target=\"_parent\"><img src=\"https://colab.research.google.com/assets/colab-badge.svg\" alt=\"Open In Colab\"/></a>"
      ]
    },
    {
      "cell_type": "code",
      "execution_count": null,
      "metadata": {
        "colab": {
          "base_uri": "https://localhost:8080/"
        },
        "id": "exykGe6K2RBv",
        "outputId": "f95be60c-da46-42af-e388-59be80f9a533"
      },
      "outputs": [
        {
          "output_type": "stream",
          "name": "stdout",
          "text": [
            "Mounted at /content/drive\n"
          ]
        }
      ],
      "source": [
        "from google.colab import drive\n",
        "drive.mount('/content/drive')"
      ]
    },
    {
      "cell_type": "code",
      "source": [
        "#from sklearn.ensemble import RandomForestRegressor\n",
        "#from sklearn.model_selection import train_test_split\n",
        "#from sklearn.metrics import mean_squared_error"
      ],
      "metadata": {
        "id": "di6av1pkIjFc"
      },
      "execution_count": null,
      "outputs": []
    },
    {
      "cell_type": "code",
      "source": [
        "%matplotlib inline\n",
        "\n",
        "import pandas as pd\n",
        "import numpy as np\n",
        "import matplotlib.pyplot as plt\n",
        "import seaborn as sns\n",
        "\n",
        "import warnings\n",
        "warnings.filterwarnings(\"ignore\")"
      ],
      "metadata": {
        "id": "Cr1Q_j6cLmm-"
      },
      "execution_count": null,
      "outputs": []
    },
    {
      "cell_type": "code",
      "source": [
        "# CSV 파일 불러오기\n",
        "data = pd.read_csv('/content/drive/MyDrive/SWING/HOMERUN/baseline/test.csv')\n",
        "data = data.drop('Unnamed: 0', axis=1)\n",
        "data.info()"
      ],
      "metadata": {
        "id": "isSGAq4z2g0_",
        "colab": {
          "base_uri": "https://localhost:8080/"
        },
        "outputId": "72204f2d-5f7f-4d13-a317-1c89c5262975"
      },
      "execution_count": null,
      "outputs": [
        {
          "output_type": "stream",
          "name": "stdout",
          "text": [
            "<class 'pandas.core.frame.DataFrame'>\n",
            "RangeIndex: 3123 entries, 0 to 3122\n",
            "Data columns (total 10 columns):\n",
            " #   Column     Non-Null Count  Dtype  \n",
            "---  ------     --------------  -----  \n",
            " 0   Date       3123 non-null   object \n",
            " 1   Gu         3123 non-null   object \n",
            " 2   PM10       3123 non-null   float64\n",
            " 3   PM2.5      3123 non-null   float64\n",
            " 4   O3         3123 non-null   float64\n",
            " 5   NO2        3123 non-null   float64\n",
            " 6   CO         3123 non-null   float64\n",
            " 7   SO2        3123 non-null   float64\n",
            " 8   DailyRain  3123 non-null   float64\n",
            " 9   VisitNum   3123 non-null   float64\n",
            "dtypes: float64(8), object(2)\n",
            "memory usage: 244.1+ KB\n"
          ]
        }
      ]
    },
    {
      "cell_type": "code",
      "source": [
        "data.shape"
      ],
      "metadata": {
        "colab": {
          "base_uri": "https://localhost:8080/"
        },
        "id": "JzRVj7WZ3tCY",
        "outputId": "4f57cdbc-58c8-4e98-b858-a126104ff28e"
      },
      "execution_count": null,
      "outputs": [
        {
          "output_type": "execute_result",
          "data": {
            "text/plain": [
              "(3123, 12)"
            ]
          },
          "metadata": {},
          "execution_count": 165
        }
      ]
    },
    {
      "cell_type": "code",
      "source": [
        "data.columns"
      ],
      "metadata": {
        "colab": {
          "base_uri": "https://localhost:8080/"
        },
        "id": "M86DU4D3uhng",
        "outputId": "11f23f2b-6048-4721-b411-3dcce6866a0d"
      },
      "execution_count": null,
      "outputs": [
        {
          "output_type": "execute_result",
          "data": {
            "text/plain": [
              "Index(['Date', 'Gu', 'PM10', 'PM2.5', 'O3', 'NO2', 'CO', 'SO2', 'DailyRain',\n",
              "       'VisitNum'],\n",
              "      dtype='object')"
            ]
          },
          "metadata": {},
          "execution_count": 20
        }
      ]
    },
    {
      "cell_type": "markdown",
      "source": [
        "# EDA, Data Preprocessing"
      ],
      "metadata": {
        "id": "si72YvEftTui"
      }
    },
    {
      "cell_type": "code",
      "source": [
        "quant_cols=['PM10', 'PM2.5', 'O3', 'NO2', 'CO', 'SO2', 'DailyRain',\n",
        "       'VisitNum']"
      ],
      "metadata": {
        "id": "1exmKzcZtRp3"
      },
      "execution_count": null,
      "outputs": []
    },
    {
      "cell_type": "code",
      "source": [
        "corr_df=pd.DataFrame(np.corrcoef(np.array(data[quant_cols]).T))"
      ],
      "metadata": {
        "id": "dafQmDfLuzpe"
      },
      "execution_count": null,
      "outputs": []
    },
    {
      "cell_type": "code",
      "source": [
        "corr_df.columns=quant_cols\n",
        "corr_df.index = quant_cols"
      ],
      "metadata": {
        "id": "YikCAOHxu5jE"
      },
      "execution_count": null,
      "outputs": []
    },
    {
      "cell_type": "code",
      "source": [
        "import matplotlib.pyplot as plt\n",
        "import seaborn as sns\n",
        "corr_df.columns=quant_cols\n",
        "corr_df.index = quant_cols\n",
        "\n",
        "ax = sns.heatmap(corr_df, annot=True, annot_kws=dict(color='g'), cmap='Greys')\n",
        "plt.show()"
      ],
      "metadata": {
        "colab": {
          "base_uri": "https://localhost:8080/",
          "height": 487
        },
        "id": "deUHEMziu9Fp",
        "outputId": "aaeb253f-7cd4-43a5-f54d-f9447ca769bd"
      },
      "execution_count": null,
      "outputs": [
        {
          "output_type": "display_data",
          "data": {
            "text/plain": [
              "<Figure size 640x480 with 2 Axes>"
            ],
            "image/png": "[encoded data removed]"
          },
          "metadata": {}
        }
      ]
    },
    {
      "cell_type": "code",
      "source": [
        "# # 미세먼지, 강우량, 유동인구수 heatmap\n",
        "# quant_cols=['PM10', 'DailyRain', 'VisitNum']\n",
        "# corr_df=pd.DataFrame(np.corrcoef(np.array(data[quant_cols]).T))\n",
        "# corr_df.columns= quant_cols\n",
        "# corr_df.index = quant_cols\n",
        "\n",
        "# ax = sns.heatmap(corr_df, annot=True, annot_kws=dict(color='g'), cmap='Greys')\n",
        "# plt.show()\n",
        "# ->상관관계 너무 낮아서 뺌"
      ],
      "metadata": {
        "id": "ljmpDK3Gu_BU"
      },
      "execution_count": null,
      "outputs": []
    },
    {
      "cell_type": "code",
      "source": [
        "# 'Date' 컬럼에서 'year'와 'month' 추출하여 문자열로 변환\n",
        "data['year'] = pd.to_datetime(data['Date']).dt.strftime('%Y')\n",
        "data['month'] = pd.to_datetime(data['Date']).dt.strftime('%m')\n",
        "# data.head()"
      ],
      "metadata": {
        "id": "JB3KqpkM1YNQ"
      },
      "execution_count": null,
      "outputs": []
    },
    {
      "cell_type": "code",
      "source": [
        "import seaborn as sns\n",
        "sns.barplot(x='month', y='PM10', data=data)"
      ],
      "metadata": {
        "colab": {
          "base_uri": "https://localhost:8080/",
          "height": 467
        },
        "id": "krqONfZQu2kH",
        "outputId": "cde62013-00fc-47a8-d905-1c7814640de8"
      },
      "execution_count": null,
      "outputs": [
        {
          "output_type": "execute_result",
          "data": {
            "text/plain": [
              "<Axes: xlabel='month', ylabel='PM10'>"
            ]
          },
          "metadata": {},
          "execution_count": 44
        },
        {
          "output_type": "display_data",
          "data": {
            "text/plain": [
              "<Figure size 640x480 with 1 Axes>"
            ],
            "image/png": "[encoded data removed]"
          },
          "metadata": {}
        }
      ]
    },
    {
      "cell_type": "code",
      "source": [],
      "metadata": {
        "id": "3x28j5DBuews"
      },
      "execution_count": null,
      "outputs": []
    },
    {
      "cell_type": "code",
      "source": [
        "# # Date로부터 ‘월’을 의미하는 month 정보를 피처로 추출합니다.\n",
        "# data['month'] = data['Date'].apply(lambda x: x[:7])\n",
        "\n",
        "# # 월별 거래 횟수를 계산하여 출력합니다.\n",
        "# data['month'].value_counts()"
      ],
      "metadata": {
        "id": "s0WZ9o9-M8bw"
      },
      "execution_count": null,
      "outputs": []
    },
    {
      "cell_type": "code",
      "source": [
        "# # 미세먼지의 분포를 그래프로 탐색합니다.\n",
        "# data['PM10'].hist(bins=\"auto\")\n",
        "# data['DailyRain'].hist(bins=\"auto\")\n",
        "# # data['VisitNum'].hist(bins=\"auto\")"
      ],
      "metadata": {
        "id": "V2VFhL9EOT90"
      },
      "execution_count": null,
      "outputs": []
    },
    {
      "cell_type": "code",
      "source": [
        "data.head()"
      ],
      "metadata": {
        "colab": {
          "base_uri": "https://localhost:8080/",
          "height": 206
        },
        "id": "6wrsyPagTHv3",
        "outputId": "aa64c6b1-a03e-4e3f-b114-328a6be27eaa"
      },
      "execution_count": null,
      "outputs": [
        {
          "output_type": "execute_result",
          "data": {
            "text/plain": [
              "         Date   Gu  PM10  PM2.5      O3     NO2    CO     SO2  DailyRain  \\\n",
              "0  2023-01-02  도봉구  21.0   10.0  0.0287  0.0130  0.38  0.0028        0.0   \n",
              "1  2023-01-03  도봉구  26.0   15.0  0.0194  0.0259  0.54  0.0025        0.0   \n",
              "2  2023-01-04  도봉구  28.0   20.0  0.0176  0.0333  0.62  0.0026        0.0   \n",
              "3  2023-01-05  도봉구  45.0   33.0  0.0107  0.0445  0.80  0.0028        0.0   \n",
              "4  2023-01-06  도봉구  66.0   54.0  0.0109  0.0453  0.88  0.0028        0.0   \n",
              "\n",
              "   VisitNum  year    month  \n",
              "0  120956.0  2023  2023-01  \n",
              "1  118727.0  2023  2023-01  \n",
              "2  114711.0  2023  2023-01  \n",
              "3  119399.0  2023  2023-01  \n",
              "4  123182.0  2023  2023-01  "
            ],
            "text/html": [
              "\n",
              "\n",
              "  <div id=\"df-737c7aac-d406-4390-8f5e-ddebfed0ea72\">\n",
              "    <div class=\"colab-df-container\">\n",
              "      <div>\n",
              "<style scoped>\n",
              "    .dataframe tbody tr th:only-of-type {\n",
              "        vertical-align: middle;\n",
              "    }\n",
              "\n",
              "    .dataframe tbody tr th {\n",
              "        vertical-align: top;\n",
              "    }\n",
              "\n",
              "    .dataframe thead th {\n",
              "        text-align: right;\n",
              "    }\n",
              "</style>\n",
              "<table border=\"1\" class=\"dataframe\">\n",
              "  <thead>\n",
              "    <tr style=\"text-align: right;\">\n",
              "      <th></th>\n",
              "      <th>Date</th>\n",
              "      <th>Gu</th>\n",
              "      <th>PM10</th>\n",
              "      <th>PM2.5</th>\n",
              "      <th>O3</th>\n",
              "      <th>NO2</th>\n",
              "      <th>CO</th>\n",
              "      <th>SO2</th>\n",
              "      <th>DailyRain</th>\n",
              "      <th>VisitNum</th>\n",
              "      <th>year</th>\n",
              "      <th>month</th>\n",
              "    </tr>\n",
              "  </thead>\n",
              "  <tbody>\n",
              "    <tr>\n",
              "      <th>0</th>\n",
              "      <td>2023-01-02</td>\n",
              "      <td>도봉구</td>\n",
              "      <td>21.0</td>\n",
              "      <td>10.0</td>\n",
              "      <td>0.0287</td>\n",
              "      <td>0.0130</td>\n",
              "      <td>0.38</td>\n",
              "      <td>0.0028</td>\n",
              "      <td>0.0</td>\n",
              "      <td>120956.0</td>\n",
              "      <td>2023</td>\n",
              "      <td>2023-01</td>\n",
              "    </tr>\n",
              "    <tr>\n",
              "      <th>1</th>\n",
              "      <td>2023-01-03</td>\n",
              "      <td>도봉구</td>\n",
              "      <td>26.0</td>\n",
              "      <td>15.0</td>\n",
              "      <td>0.0194</td>\n",
              "      <td>0.0259</td>\n",
              "      <td>0.54</td>\n",
              "      <td>0.0025</td>\n",
              "      <td>0.0</td>\n",
              "      <td>118727.0</td>\n",
              "      <td>2023</td>\n",
              "      <td>2023-01</td>\n",
              "    </tr>\n",
              "    <tr>\n",
              "      <th>2</th>\n",
              "      <td>2023-01-04</td>\n",
              "      <td>도봉구</td>\n",
              "      <td>28.0</td>\n",
              "      <td>20.0</td>\n",
              "      <td>0.0176</td>\n",
              "      <td>0.0333</td>\n",
              "      <td>0.62</td>\n",
              "      <td>0.0026</td>\n",
              "      <td>0.0</td>\n",
              "      <td>114711.0</td>\n",
              "      <td>2023</td>\n",
              "      <td>2023-01</td>\n",
              "    </tr>\n",
              "    <tr>\n",
              "      <th>3</th>\n",
              "      <td>2023-01-05</td>\n",
              "      <td>도봉구</td>\n",
              "      <td>45.0</td>\n",
              "      <td>33.0</td>\n",
              "      <td>0.0107</td>\n",
              "      <td>0.0445</td>\n",
              "      <td>0.80</td>\n",
              "      <td>0.0028</td>\n",
              "      <td>0.0</td>\n",
              "      <td>119399.0</td>\n",
              "      <td>2023</td>\n",
              "      <td>2023-01</td>\n",
              "    </tr>\n",
              "    <tr>\n",
              "      <th>4</th>\n",
              "      <td>2023-01-06</td>\n",
              "      <td>도봉구</td>\n",
              "      <td>66.0</td>\n",
              "      <td>54.0</td>\n",
              "      <td>0.0109</td>\n",
              "      <td>0.0453</td>\n",
              "      <td>0.88</td>\n",
              "      <td>0.0028</td>\n",
              "      <td>0.0</td>\n",
              "      <td>123182.0</td>\n",
              "      <td>2023</td>\n",
              "      <td>2023-01</td>\n",
              "    </tr>\n",
              "  </tbody>\n",
              "</table>\n",
              "</div>\n",
              "      <button class=\"colab-df-convert\" onclick=\"convertToInteractive('df-737c7aac-d406-4390-8f5e-ddebfed0ea72')\"\n",
              "              title=\"Convert this dataframe to an interactive table.\"\n",
              "              style=\"display:none;\">\n",
              "\n",
              "  <svg xmlns=\"http://www.w3.org/2000/svg\" height=\"24px\"viewBox=\"0 0 24 24\"\n",
              "       width=\"24px\">\n",
              "    <path d=\"M0 0h24v24H0V0z\" fill=\"none\"/>\n",
              "    <path d=\"M18.56 5.44l.94 2.06.94-2.06 2.06-.94-2.06-.94-.94-2.06-.94 2.06-2.06.94zm-11 1L8.5 8.5l.94-2.06 2.06-.94-2.06-.94L8.5 2.5l-.94 2.06-2.06.94zm10 10l.94 2.06.94-2.06 2.06-.94-2.06-.94-.94-2.06-.94 2.06-2.06.94z\"/><path d=\"M17.41 7.96l-1.37-1.37c-.4-.4-.92-.59-1.43-.59-.52 0-1.04.2-1.43.59L10.3 9.45l-7.72 7.72c-.78.78-.78 2.05 0 2.83L4 21.41c.39.39.9.59 1.41.59.51 0 1.02-.2 1.41-.59l7.78-7.78 2.81-2.81c.8-.78.8-2.07 0-2.86zM5.41 20L4 18.59l7.72-7.72 1.47 1.35L5.41 20z\"/>\n",
              "  </svg>\n",
              "      </button>\n",
              "\n",
              "\n",
              "\n",
              "    <div id=\"df-9079445e-9278-429b-84f1-bda6ae3f82ea\">\n",
              "      <button class=\"colab-df-quickchart\" onclick=\"quickchart('df-9079445e-9278-429b-84f1-bda6ae3f82ea')\"\n",
              "              title=\"Suggest charts.\"\n",
              "              style=\"display:none;\">\n",
              "\n",
              "<svg xmlns=\"http://www.w3.org/2000/svg\" height=\"24px\"viewBox=\"0 0 24 24\"\n",
              "     width=\"24px\">\n",
              "    <g>\n",
              "        <path d=\"M19 3H5c-1.1 0-2 .9-2 2v14c0 1.1.9 2 2 2h14c1.1 0 2-.9 2-2V5c0-1.1-.9-2-2-2zM9 17H7v-7h2v7zm4 0h-2V7h2v10zm4 0h-2v-4h2v4z\"/>\n",
              "    </g>\n",
              "</svg>\n",
              "      </button>\n",
              "    </div>\n",
              "\n",
              "<style>\n",
              "  .colab-df-quickchart {\n",
              "    background-color: #E8F0FE;\n",
              "    border: none;\n",
              "    border-radius: 50%;\n",
              "    cursor: pointer;\n",
              "    display: none;\n",
              "    fill: #1967D2;\n",
              "    height: 32px;\n",
              "    padding: 0 0 0 0;\n",
              "    width: 32px;\n",
              "  }\n",
              "\n",
              "  .colab-df-quickchart:hover {\n",
              "    background-color: #E2EBFA;\n",
              "    box-shadow: 0px 1px 2px rgba(60, 64, 67, 0.3), 0px 1px 3px 1px rgba(60, 64, 67, 0.15);\n",
              "    fill: #174EA6;\n",
              "  }\n",
              "\n",
              "  [theme=dark] .colab-df-quickchart {\n",
              "    background-color: #3B4455;\n",
              "    fill: #D2E3FC;\n",
              "  }\n",
              "\n",
              "  [theme=dark] .colab-df-quickchart:hover {\n",
              "    background-color: #434B5C;\n",
              "    box-shadow: 0px 1px 3px 1px rgba(0, 0, 0, 0.15);\n",
              "    filter: drop-shadow(0px 1px 2px rgba(0, 0, 0, 0.3));\n",
              "    fill: #FFFFFF;\n",
              "  }\n",
              "</style>\n",
              "\n",
              "    <script>\n",
              "      async function quickchart(key) {\n",
              "        const containerElement = document.querySelector('#' + key);\n",
              "        const charts = await google.colab.kernel.invokeFunction(\n",
              "            'suggestCharts', [key], {});\n",
              "      }\n",
              "    </script>\n",
              "\n",
              "      <script>\n",
              "\n",
              "function displayQuickchartButton(domScope) {\n",
              "  let quickchartButtonEl =\n",
              "    domScope.querySelector('#df-9079445e-9278-429b-84f1-bda6ae3f82ea button.colab-df-quickchart');\n",
              "  quickchartButtonEl.style.display =\n",
              "    google.colab.kernel.accessAllowed ? 'block' : 'none';\n",
              "}\n",
              "\n",
              "        displayQuickchartButton(document);\n",
              "      </script>\n",
              "      <style>\n",
              "    .colab-df-container {\n",
              "      display:flex;\n",
              "      flex-wrap:wrap;\n",
              "      gap: 12px;\n",
              "    }\n",
              "\n",
              "    .colab-df-convert {\n",
              "      background-color: #E8F0FE;\n",
              "      border: none;\n",
              "      border-radius: 50%;\n",
              "      cursor: pointer;\n",
              "      display: none;\n",
              "      fill: #1967D2;\n",
              "      height: 32px;\n",
              "      padding: 0 0 0 0;\n",
              "      width: 32px;\n",
              "    }\n",
              "\n",
              "    .colab-df-convert:hover {\n",
              "      background-color: #E2EBFA;\n",
              "      box-shadow: 0px 1px 2px rgba(60, 64, 67, 0.3), 0px 1px 3px 1px rgba(60, 64, 67, 0.15);\n",
              "      fill: #174EA6;\n",
              "    }\n",
              "\n",
              "    [theme=dark] .colab-df-convert {\n",
              "      background-color: #3B4455;\n",
              "      fill: #D2E3FC;\n",
              "    }\n",
              "\n",
              "    [theme=dark] .colab-df-convert:hover {\n",
              "      background-color: #434B5C;\n",
              "      box-shadow: 0px 1px 3px 1px rgba(0, 0, 0, 0.15);\n",
              "      filter: drop-shadow(0px 1px 2px rgba(0, 0, 0, 0.3));\n",
              "      fill: #FFFFFF;\n",
              "    }\n",
              "  </style>\n",
              "\n",
              "      <script>\n",
              "        const buttonEl =\n",
              "          document.querySelector('#df-737c7aac-d406-4390-8f5e-ddebfed0ea72 button.colab-df-convert');\n",
              "        buttonEl.style.display =\n",
              "          google.colab.kernel.accessAllowed ? 'block' : 'none';\n",
              "\n",
              "        async function convertToInteractive(key) {\n",
              "          const element = document.querySelector('#df-737c7aac-d406-4390-8f5e-ddebfed0ea72');\n",
              "          const dataTable =\n",
              "            await google.colab.kernel.invokeFunction('convertToInteractive',\n",
              "                                                     [key], {});\n",
              "          if (!dataTable) return;\n",
              "\n",
              "          const docLinkHtml = 'Like what you see? Visit the ' +\n",
              "            '<a target=\"_blank\" href=https://colab.research.google.com/notebooks/data_table.ipynb>data table notebook</a>'\n",
              "            + ' to learn more about interactive tables.';\n",
              "          element.innerHTML = '';\n",
              "          dataTable['output_type'] = 'display_data';\n",
              "          await google.colab.output.renderOutput(dataTable, element);\n",
              "          const docLink = document.createElement('div');\n",
              "          docLink.innerHTML = docLinkHtml;\n",
              "          element.appendChild(docLink);\n",
              "        }\n",
              "      </script>\n",
              "    </div>\n",
              "  </div>\n"
            ]
          },
          "metadata": {},
          "execution_count": 112
        }
      ]
    },
    {
      "cell_type": "code",
      "source": [],
      "metadata": {
        "id": "DAtH6o2BVIUY"
      },
      "execution_count": null,
      "outputs": []
    },
    {
      "cell_type": "code",
      "source": [
        "# 월별 총 미세먼지 양을 집계합니다.\n",
        "model_counts = data['PM10'].value_counts()\n",
        "print(model_counts.describe())\n",
        "\n",
        "# 기종별 총 거래 데이터 개수를 상자 그림으로 살펴봅니다.\n",
        "plt.boxplot(model_counts)"
      ],
      "metadata": {
        "colab": {
          "base_uri": "https://localhost:8080/",
          "height": 740
        },
        "id": "H80A_04MTyV0",
        "outputId": "65c19c0e-2ee4-487e-e761-3cfbcf8f41f5"
      },
      "execution_count": null,
      "outputs": [
        {
          "output_type": "stream",
          "name": "stdout",
          "text": [
            "count    173.000000\n",
            "mean      18.052023\n",
            "std       22.392707\n",
            "min        1.000000\n",
            "25%        2.000000\n",
            "50%        7.000000\n",
            "75%       28.000000\n",
            "max       84.000000\n",
            "Name: PM10, dtype: float64\n"
          ]
        },
        {
          "output_type": "execute_result",
          "data": {
            "text/plain": [
              "{'whiskers': [<matplotlib.lines.Line2D at 0x7b538dcd3250>,\n",
              "  <matplotlib.lines.Line2D at 0x7b538db008b0>],\n",
              " 'caps': [<matplotlib.lines.Line2D at 0x7b538db00b50>,\n",
              "  <matplotlib.lines.Line2D at 0x7b538db00df0>],\n",
              " 'boxes': [<matplotlib.lines.Line2D at 0x7b538db00490>],\n",
              " 'medians': [<matplotlib.lines.Line2D at 0x7b538db01090>],\n",
              " 'fliers': [<matplotlib.lines.Line2D at 0x7b538db01330>],\n",
              " 'means': []}"
            ]
          },
          "metadata": {},
          "execution_count": 117
        },
        {
          "output_type": "display_data",
          "data": {
            "text/plain": [
              "<Figure size 640x480 with 1 Axes>"
            ],
            "image/png": "[encoded data removed]"
          },
          "metadata": {}
        }
      ]
    },
    {
      "cell_type": "code",
      "source": [
        "# PM10와 DailyRain피처를 scatter plot으로 출력하여, 상관관계를 살펴봅니다.\n",
        "data.plot.scatter(x='PM10', y='DailyRain')"
      ],
      "metadata": {
        "colab": {
          "base_uri": "https://localhost:8080/",
          "height": 467
        },
        "id": "ySDBqnAsPFpS",
        "outputId": "ae12951a-d2a8-442c-9296-e228ddb5cbf2"
      },
      "execution_count": null,
      "outputs": [
        {
          "output_type": "execute_result",
          "data": {
            "text/plain": [
              "<Axes: xlabel='PM10', ylabel='DailyRain'>"
            ]
          },
          "metadata": {},
          "execution_count": 163
        },
        {
          "output_type": "display_data",
          "data": {
            "text/plain": [
              "<Figure size 640x480 with 1 Axes>"
            ],
            "image/png": "[encoded data removed]"
          },
          "metadata": {}
        }
      ]
    },
    {
      "cell_type": "code",
      "source": [
        "data.plot.scatter(x='PM10', y='VisitNum')"
      ],
      "metadata": {
        "colab": {
          "base_uri": "https://localhost:8080/",
          "height": 467
        },
        "id": "G3XPs1dq3Jf5",
        "outputId": "123f59ac-716e-4d86-9118-4312f21d07f4"
      },
      "execution_count": null,
      "outputs": [
        {
          "output_type": "execute_result",
          "data": {
            "text/plain": [
              "<Axes: xlabel='PM10', ylabel='VisitNum'>"
            ]
          },
          "metadata": {},
          "execution_count": 48
        },
        {
          "output_type": "display_data",
          "data": {
            "text/plain": [
              "<Figure size 640x480 with 1 Axes>"
            ],
            "image/png": "[encoded data removed]"
          },
          "metadata": {}
        }
      ]
    },
    {
      "cell_type": "code",
      "source": [
        "data.plot.scatter(x='DailyRain', y='VisitNum')"
      ],
      "metadata": {
        "colab": {
          "base_uri": "https://localhost:8080/",
          "height": 467
        },
        "id": "_Wk0mmCS3Xvq",
        "outputId": "447615d9-6d80-4092-d5ba-0c8ca40affda"
      },
      "execution_count": null,
      "outputs": [
        {
          "output_type": "execute_result",
          "data": {
            "text/plain": [
              "<Axes: xlabel='DailyRain', ylabel='VisitNum'>"
            ]
          },
          "metadata": {},
          "execution_count": 49
        },
        {
          "output_type": "display_data",
          "data": {
            "text/plain": [
              "<Figure size 640x480 with 1 Axes>"
            ],
            "image/png": "[encoded data removed]"
          },
          "metadata": {}
        }
      ]
    },
    {
      "cell_type": "code",
      "source": [
        "data2 = data.copy()"
      ],
      "metadata": {
        "id": "Qusn5YuV4QFN"
      },
      "execution_count": null,
      "outputs": []
    },
    {
      "cell_type": "code",
      "source": [
        "# 'Gu' 컬럼 값들로 원핫인코딩\n",
        "one_hot_encoded = pd.get_dummies(data2['Gu'])\n",
        "data2 = pd.concat([data2, one_hot_encoded], axis=1)\n",
        "data2"
      ],
      "metadata": {
        "colab": {
          "base_uri": "https://localhost:8080/",
          "height": 423
        },
        "id": "2QZdNKQBJl4W",
        "outputId": "481d1382-69be-49b7-9ab4-efcbd5c02bce"
      },
      "execution_count": null,
      "outputs": [
        {
          "output_type": "execute_result",
          "data": {
            "text/plain": [
              "            Date   Gu  PM10  PM2.5      O3     NO2    CO     SO2  DailyRain  \\\n",
              "0     2023-01-02  도봉구  21.0   10.0  0.0287  0.0130  0.38  0.0028        0.0   \n",
              "1     2023-01-03  도봉구  26.0   15.0  0.0194  0.0259  0.54  0.0025        0.0   \n",
              "2     2023-01-04  도봉구  28.0   20.0  0.0176  0.0333  0.62  0.0026        0.0   \n",
              "3     2023-01-05  도봉구  45.0   33.0  0.0107  0.0445  0.80  0.0028        0.0   \n",
              "4     2023-01-06  도봉구  66.0   54.0  0.0109  0.0453  0.88  0.0028        0.0   \n",
              "...          ...  ...   ...    ...     ...     ...   ...     ...        ...   \n",
              "3118  2023-06-26  중랑구  17.0   11.0  0.0277  0.0178  0.31  0.0022       65.0   \n",
              "3119  2023-06-27  중랑구  37.0   11.0  0.0465  0.0174  0.32  0.0022        2.0   \n",
              "3120  2023-06-28  중랑구  35.0   21.0  0.0473  0.0204  0.37  0.0023        0.0   \n",
              "3121  2023-06-29  중랑구  33.0   22.0  0.0328  0.0198  0.31  0.0021      133.5   \n",
              "3122  2023-06-30  중랑구  35.0   25.0  0.0462  0.0260  0.41  0.0022        0.0   \n",
              "\n",
              "      VisitNum  ... 서대문구 서초구  성동구  송파구  양천구  용산구  은평구  종로구  중구  중랑구  \n",
              "0     120956.0  ...    0   0    0    0    0    0    0    0   0    0  \n",
              "1     118727.0  ...    0   0    0    0    0    0    0    0   0    0  \n",
              "2     114711.0  ...    0   0    0    0    0    0    0    0   0    0  \n",
              "3     119399.0  ...    0   0    0    0    0    0    0    0   0    0  \n",
              "4     123182.0  ...    0   0    0    0    0    0    0    0   0    0  \n",
              "...        ...  ...  ...  ..  ...  ...  ...  ...  ...  ...  ..  ...  \n",
              "3118   39284.0  ...    0   0    0    0    0    0    0    0   0    1  \n",
              "3119   41083.0  ...    0   0    0    0    0    0    0    0   0    1  \n",
              "3120   41516.0  ...    0   0    0    0    0    0    0    0   0    1  \n",
              "3121   39480.0  ...    0   0    0    0    0    0    0    0   0    1  \n",
              "3122   40893.0  ...    0   0    0    0    0    0    0    0   0    1  \n",
              "\n",
              "[3123 rows x 34 columns]"
            ],
            "text/html": [
              "\n",
              "\n",
              "  <div id=\"df-d1044f9f-a285-4db8-b345-25feb99d35ea\">\n",
              "    <div class=\"colab-df-container\">\n",
              "      <div>\n",
              "<style scoped>\n",
              "    .dataframe tbody tr th:only-of-type {\n",
              "        vertical-align: middle;\n",
              "    }\n",
              "\n",
              "    .dataframe tbody tr th {\n",
              "        vertical-align: top;\n",
              "    }\n",
              "\n",
              "    .dataframe thead th {\n",
              "        text-align: right;\n",
              "    }\n",
              "</style>\n",
              "<table border=\"1\" class=\"dataframe\">\n",
              "  <thead>\n",
              "    <tr style=\"text-align: right;\">\n",
              "      <th></th>\n",
              "      <th>Date</th>\n",
              "      <th>Gu</th>\n",
              "      <th>PM10</th>\n",
              "      <th>PM2.5</th>\n",
              "      <th>O3</th>\n",
              "      <th>NO2</th>\n",
              "      <th>CO</th>\n",
              "      <th>SO2</th>\n",
              "      <th>DailyRain</th>\n",
              "      <th>VisitNum</th>\n",
              "      <th>...</th>\n",
              "      <th>서대문구</th>\n",
              "      <th>서초구</th>\n",
              "      <th>성동구</th>\n",
              "      <th>송파구</th>\n",
              "      <th>양천구</th>\n",
              "      <th>용산구</th>\n",
              "      <th>은평구</th>\n",
              "      <th>종로구</th>\n",
              "      <th>중구</th>\n",
              "      <th>중랑구</th>\n",
              "    </tr>\n",
              "  </thead>\n",
              "  <tbody>\n",
              "    <tr>\n",
              "      <th>0</th>\n",
              "      <td>2023-01-02</td>\n",
              "      <td>도봉구</td>\n",
              "      <td>21.0</td>\n",
              "      <td>10.0</td>\n",
              "      <td>0.0287</td>\n",
              "      <td>0.0130</td>\n",
              "      <td>0.38</td>\n",
              "      <td>0.0028</td>\n",
              "      <td>0.0</td>\n",
              "      <td>120956.0</td>\n",
              "      <td>...</td>\n",
              "      <td>0</td>\n",
              "      <td>0</td>\n",
              "      <td>0</td>\n",
              "      <td>0</td>\n",
              "      <td>0</td>\n",
              "      <td>0</td>\n",
              "      <td>0</td>\n",
              "      <td>0</td>\n",
              "      <td>0</td>\n",
              "      <td>0</td>\n",
              "    </tr>\n",
              "    <tr>\n",
              "      <th>1</th>\n",
              "      <td>2023-01-03</td>\n",
              "      <td>도봉구</td>\n",
              "      <td>26.0</td>\n",
              "      <td>15.0</td>\n",
              "      <td>0.0194</td>\n",
              "      <td>0.0259</td>\n",
              "      <td>0.54</td>\n",
              "      <td>0.0025</td>\n",
              "      <td>0.0</td>\n",
              "      <td>118727.0</td>\n",
              "      <td>...</td>\n",
              "      <td>0</td>\n",
              "      <td>0</td>\n",
              "      <td>0</td>\n",
              "      <td>0</td>\n",
              "      <td>0</td>\n",
              "      <td>0</td>\n",
              "      <td>0</td>\n",
              "      <td>0</td>\n",
              "      <td>0</td>\n",
              "      <td>0</td>\n",
              "    </tr>\n",
              "    <tr>\n",
              "      <th>2</th>\n",
              "      <td>2023-01-04</td>\n",
              "      <td>도봉구</td>\n",
              "      <td>28.0</td>\n",
              "      <td>20.0</td>\n",
              "      <td>0.0176</td>\n",
              "      <td>0.0333</td>\n",
              "      <td>0.62</td>\n",
              "      <td>0.0026</td>\n",
              "      <td>0.0</td>\n",
              "      <td>114711.0</td>\n",
              "      <td>...</td>\n",
              "      <td>0</td>\n",
              "      <td>0</td>\n",
              "      <td>0</td>\n",
              "      <td>0</td>\n",
              "      <td>0</td>\n",
              "      <td>0</td>\n",
              "      <td>0</td>\n",
              "      <td>0</td>\n",
              "      <td>0</td>\n",
              "      <td>0</td>\n",
              "    </tr>\n",
              "    <tr>\n",
              "      <th>3</th>\n",
              "      <td>2023-01-05</td>\n",
              "      <td>도봉구</td>\n",
              "      <td>45.0</td>\n",
              "      <td>33.0</td>\n",
              "      <td>0.0107</td>\n",
              "      <td>0.0445</td>\n",
              "      <td>0.80</td>\n",
              "      <td>0.0028</td>\n",
              "      <td>0.0</td>\n",
              "      <td>119399.0</td>\n",
              "      <td>...</td>\n",
              "      <td>0</td>\n",
              "      <td>0</td>\n",
              "      <td>0</td>\n",
              "      <td>0</td>\n",
              "      <td>0</td>\n",
              "      <td>0</td>\n",
              "      <td>0</td>\n",
              "      <td>0</td>\n",
              "      <td>0</td>\n",
              "      <td>0</td>\n",
              "    </tr>\n",
              "    <tr>\n",
              "      <th>4</th>\n",
              "      <td>2023-01-06</td>\n",
              "      <td>도봉구</td>\n",
              "      <td>66.0</td>\n",
              "      <td>54.0</td>\n",
              "      <td>0.0109</td>\n",
              "      <td>0.0453</td>\n",
              "      <td>0.88</td>\n",
              "      <td>0.0028</td>\n",
              "      <td>0.0</td>\n",
              "      <td>123182.0</td>\n",
              "      <td>...</td>\n",
              "      <td>0</td>\n",
              "      <td>0</td>\n",
              "      <td>0</td>\n",
              "      <td>0</td>\n",
              "      <td>0</td>\n",
              "      <td>0</td>\n",
              "      <td>0</td>\n",
              "      <td>0</td>\n",
              "      <td>0</td>\n",
              "      <td>0</td>\n",
              "    </tr>\n",
              "    <tr>\n",
              "      <th>...</th>\n",
              "      <td>...</td>\n",
              "      <td>...</td>\n",
              "      <td>...</td>\n",
              "      <td>...</td>\n",
              "      <td>...</td>\n",
              "      <td>...</td>\n",
              "      <td>...</td>\n",
              "      <td>...</td>\n",
              "      <td>...</td>\n",
              "      <td>...</td>\n",
              "      <td>...</td>\n",
              "      <td>...</td>\n",
              "      <td>...</td>\n",
              "      <td>...</td>\n",
              "      <td>...</td>\n",
              "      <td>...</td>\n",
              "      <td>...</td>\n",
              "      <td>...</td>\n",
              "      <td>...</td>\n",
              "      <td>...</td>\n",
              "      <td>...</td>\n",
              "    </tr>\n",
              "    <tr>\n",
              "      <th>3118</th>\n",
              "      <td>2023-06-26</td>\n",
              "      <td>중랑구</td>\n",
              "      <td>17.0</td>\n",
              "      <td>11.0</td>\n",
              "      <td>0.0277</td>\n",
              "      <td>0.0178</td>\n",
              "      <td>0.31</td>\n",
              "      <td>0.0022</td>\n",
              "      <td>65.0</td>\n",
              "      <td>39284.0</td>\n",
              "      <td>...</td>\n",
              "      <td>0</td>\n",
              "      <td>0</td>\n",
              "      <td>0</td>\n",
              "      <td>0</td>\n",
              "      <td>0</td>\n",
              "      <td>0</td>\n",
              "      <td>0</td>\n",
              "      <td>0</td>\n",
              "      <td>0</td>\n",
              "      <td>1</td>\n",
              "    </tr>\n",
              "    <tr>\n",
              "      <th>3119</th>\n",
              "      <td>2023-06-27</td>\n",
              "      <td>중랑구</td>\n",
              "      <td>37.0</td>\n",
              "      <td>11.0</td>\n",
              "      <td>0.0465</td>\n",
              "      <td>0.0174</td>\n",
              "      <td>0.32</td>\n",
              "      <td>0.0022</td>\n",
              "      <td>2.0</td>\n",
              "      <td>41083.0</td>\n",
              "      <td>...</td>\n",
              "      <td>0</td>\n",
              "      <td>0</td>\n",
              "      <td>0</td>\n",
              "      <td>0</td>\n",
              "      <td>0</td>\n",
              "      <td>0</td>\n",
              "      <td>0</td>\n",
              "      <td>0</td>\n",
              "      <td>0</td>\n",
              "      <td>1</td>\n",
              "    </tr>\n",
              "    <tr>\n",
              "      <th>3120</th>\n",
              "      <td>2023-06-28</td>\n",
              "      <td>중랑구</td>\n",
              "      <td>35.0</td>\n",
              "      <td>21.0</td>\n",
              "      <td>0.0473</td>\n",
              "      <td>0.0204</td>\n",
              "      <td>0.37</td>\n",
              "      <td>0.0023</td>\n",
              "      <td>0.0</td>\n",
              "      <td>41516.0</td>\n",
              "      <td>...</td>\n",
              "      <td>0</td>\n",
              "      <td>0</td>\n",
              "      <td>0</td>\n",
              "      <td>0</td>\n",
              "      <td>0</td>\n",
              "      <td>0</td>\n",
              "      <td>0</td>\n",
              "      <td>0</td>\n",
              "      <td>0</td>\n",
              "      <td>1</td>\n",
              "    </tr>\n",
              "    <tr>\n",
              "      <th>3121</th>\n",
              "      <td>2023-06-29</td>\n",
              "      <td>중랑구</td>\n",
              "      <td>33.0</td>\n",
              "      <td>22.0</td>\n",
              "      <td>0.0328</td>\n",
              "      <td>0.0198</td>\n",
              "      <td>0.31</td>\n",
              "      <td>0.0021</td>\n",
              "      <td>133.5</td>\n",
              "      <td>39480.0</td>\n",
              "      <td>...</td>\n",
              "      <td>0</td>\n",
              "      <td>0</td>\n",
              "      <td>0</td>\n",
              "      <td>0</td>\n",
              "      <td>0</td>\n",
              "      <td>0</td>\n",
              "      <td>0</td>\n",
              "      <td>0</td>\n",
              "      <td>0</td>\n",
              "      <td>1</td>\n",
              "    </tr>\n",
              "    <tr>\n",
              "      <th>3122</th>\n",
              "      <td>2023-06-30</td>\n",
              "      <td>중랑구</td>\n",
              "      <td>35.0</td>\n",
              "      <td>25.0</td>\n",
              "      <td>0.0462</td>\n",
              "      <td>0.0260</td>\n",
              "      <td>0.41</td>\n",
              "      <td>0.0022</td>\n",
              "      <td>0.0</td>\n",
              "      <td>40893.0</td>\n",
              "      <td>...</td>\n",
              "      <td>0</td>\n",
              "      <td>0</td>\n",
              "      <td>0</td>\n",
              "      <td>0</td>\n",
              "      <td>0</td>\n",
              "      <td>0</td>\n",
              "      <td>0</td>\n",
              "      <td>0</td>\n",
              "      <td>0</td>\n",
              "      <td>1</td>\n",
              "    </tr>\n",
              "  </tbody>\n",
              "</table>\n",
              "<p>3123 rows × 34 columns</p>\n",
              "</div>\n",
              "      <button class=\"colab-df-convert\" onclick=\"convertToInteractive('df-d1044f9f-a285-4db8-b345-25feb99d35ea')\"\n",
              "              title=\"Convert this dataframe to an interactive table.\"\n",
              "              style=\"display:none;\">\n",
              "\n",
              "  <svg xmlns=\"http://www.w3.org/2000/svg\" height=\"24px\"viewBox=\"0 0 24 24\"\n",
              "       width=\"24px\">\n",
              "    <path d=\"M0 0h24v24H0V0z\" fill=\"none\"/>\n",
              "    <path d=\"M18.56 5.44l.94 2.06.94-2.06 2.06-.94-2.06-.94-.94-2.06-.94 2.06-2.06.94zm-11 1L8.5 8.5l.94-2.06 2.06-.94-2.06-.94L8.5 2.5l-.94 2.06-2.06.94zm10 10l.94 2.06.94-2.06 2.06-.94-2.06-.94-.94-2.06-.94 2.06-2.06.94z\"/><path d=\"M17.41 7.96l-1.37-1.37c-.4-.4-.92-.59-1.43-.59-.52 0-1.04.2-1.43.59L10.3 9.45l-7.72 7.72c-.78.78-.78 2.05 0 2.83L4 21.41c.39.39.9.59 1.41.59.51 0 1.02-.2 1.41-.59l7.78-7.78 2.81-2.81c.8-.78.8-2.07 0-2.86zM5.41 20L4 18.59l7.72-7.72 1.47 1.35L5.41 20z\"/>\n",
              "  </svg>\n",
              "      </button>\n",
              "\n",
              "\n",
              "\n",
              "    <div id=\"df-11a70d97-cb93-4f33-9081-9e90c4948b2c\">\n",
              "      <button class=\"colab-df-quickchart\" onclick=\"quickchart('df-11a70d97-cb93-4f33-9081-9e90c4948b2c')\"\n",
              "              title=\"Suggest charts.\"\n",
              "              style=\"display:none;\">\n",
              "\n",
              "<svg xmlns=\"http://www.w3.org/2000/svg\" height=\"24px\"viewBox=\"0 0 24 24\"\n",
              "     width=\"24px\">\n",
              "    <g>\n",
              "        <path d=\"M19 3H5c-1.1 0-2 .9-2 2v14c0 1.1.9 2 2 2h14c1.1 0 2-.9 2-2V5c0-1.1-.9-2-2-2zM9 17H7v-7h2v7zm4 0h-2V7h2v10zm4 0h-2v-4h2v4z\"/>\n",
              "    </g>\n",
              "</svg>\n",
              "      </button>\n",
              "    </div>\n",
              "\n",
              "<style>\n",
              "  .colab-df-quickchart {\n",
              "    background-color: #E8F0FE;\n",
              "    border: none;\n",
              "    border-radius: 50%;\n",
              "    cursor: pointer;\n",
              "    display: none;\n",
              "    fill: #1967D2;\n",
              "    height: 32px;\n",
              "    padding: 0 0 0 0;\n",
              "    width: 32px;\n",
              "  }\n",
              "\n",
              "  .colab-df-quickchart:hover {\n",
              "    background-color: #E2EBFA;\n",
              "    box-shadow: 0px 1px 2px rgba(60, 64, 67, 0.3), 0px 1px 3px 1px rgba(60, 64, 67, 0.15);\n",
              "    fill: #174EA6;\n",
              "  }\n",
              "\n",
              "  [theme=dark] .colab-df-quickchart {\n",
              "    background-color: #3B4455;\n",
              "    fill: #D2E3FC;\n",
              "  }\n",
              "\n",
              "  [theme=dark] .colab-df-quickchart:hover {\n",
              "    background-color: #434B5C;\n",
              "    box-shadow: 0px 1px 3px 1px rgba(0, 0, 0, 0.15);\n",
              "    filter: drop-shadow(0px 1px 2px rgba(0, 0, 0, 0.3));\n",
              "    fill: #FFFFFF;\n",
              "  }\n",
              "</style>\n",
              "\n",
              "    <script>\n",
              "      async function quickchart(key) {\n",
              "        const containerElement = document.querySelector('#' + key);\n",
              "        const charts = await google.colab.kernel.invokeFunction(\n",
              "            'suggestCharts', [key], {});\n",
              "      }\n",
              "    </script>\n",
              "\n",
              "      <script>\n",
              "\n",
              "function displayQuickchartButton(domScope) {\n",
              "  let quickchartButtonEl =\n",
              "    domScope.querySelector('#df-11a70d97-cb93-4f33-9081-9e90c4948b2c button.colab-df-quickchart');\n",
              "  quickchartButtonEl.style.display =\n",
              "    google.colab.kernel.accessAllowed ? 'block' : 'none';\n",
              "}\n",
              "\n",
              "        displayQuickchartButton(document);\n",
              "      </script>\n",
              "      <style>\n",
              "    .colab-df-container {\n",
              "      display:flex;\n",
              "      flex-wrap:wrap;\n",
              "      gap: 12px;\n",
              "    }\n",
              "\n",
              "    .colab-df-convert {\n",
              "      background-color: #E8F0FE;\n",
              "      border: none;\n",
              "      border-radius: 50%;\n",
              "      cursor: pointer;\n",
              "      display: none;\n",
              "      fill: #1967D2;\n",
              "      height: 32px;\n",
              "      padding: 0 0 0 0;\n",
              "      width: 32px;\n",
              "    }\n",
              "\n",
              "    .colab-df-convert:hover {\n",
              "      background-color: #E2EBFA;\n",
              "      box-shadow: 0px 1px 2px rgba(60, 64, 67, 0.3), 0px 1px 3px 1px rgba(60, 64, 67, 0.15);\n",
              "      fill: #174EA6;\n",
              "    }\n",
              "\n",
              "    [theme=dark] .colab-df-convert {\n",
              "      background-color: #3B4455;\n",
              "      fill: #D2E3FC;\n",
              "    }\n",
              "\n",
              "    [theme=dark] .colab-df-convert:hover {\n",
              "      background-color: #434B5C;\n",
              "      box-shadow: 0px 1px 3px 1px rgba(0, 0, 0, 0.15);\n",
              "      filter: drop-shadow(0px 1px 2px rgba(0, 0, 0, 0.3));\n",
              "      fill: #FFFFFF;\n",
              "    }\n",
              "  </style>\n",
              "\n",
              "      <script>\n",
              "        const buttonEl =\n",
              "          document.querySelector('#df-d1044f9f-a285-4db8-b345-25feb99d35ea button.colab-df-convert');\n",
              "        buttonEl.style.display =\n",
              "          google.colab.kernel.accessAllowed ? 'block' : 'none';\n",
              "\n",
              "        async function convertToInteractive(key) {\n",
              "          const element = document.querySelector('#df-d1044f9f-a285-4db8-b345-25feb99d35ea');\n",
              "          const dataTable =\n",
              "            await google.colab.kernel.invokeFunction('convertToInteractive',\n",
              "                                                     [key], {});\n",
              "          if (!dataTable) return;\n",
              "\n",
              "          const docLinkHtml = 'Like what you see? Visit the ' +\n",
              "            '<a target=\"_blank\" href=https://colab.research.google.com/notebooks/data_table.ipynb>data table notebook</a>'\n",
              "            + ' to learn more about interactive tables.';\n",
              "          element.innerHTML = '';\n",
              "          dataTable['output_type'] = 'display_data';\n",
              "          await google.colab.output.renderOutput(dataTable, element);\n",
              "          const docLink = document.createElement('div');\n",
              "          docLink.innerHTML = docLinkHtml;\n",
              "          element.appendChild(docLink);\n",
              "        }\n",
              "      </script>\n",
              "    </div>\n",
              "  </div>\n"
            ]
          },
          "metadata": {},
          "execution_count": 96
        }
      ]
    },
    {
      "cell_type": "code",
      "source": [
        "data2.columns"
      ],
      "metadata": {
        "colab": {
          "base_uri": "https://localhost:8080/"
        },
        "id": "kW5yT99iKIIZ",
        "outputId": "5166baa6-91b4-4128-8215-8e756570694d"
      },
      "execution_count": null,
      "outputs": [
        {
          "output_type": "execute_result",
          "data": {
            "text/plain": [
              "Index(['Date', 'Gu', 'PM10', 'PM2.5', 'O3', 'NO2', 'CO', 'SO2', 'DailyRain',\n",
              "       'VisitNum', 'year', 'month', '강남구', '강동구', '강북구', '강서구', '관악구', '광진구',\n",
              "       '구로구', '금천구', '노원구', '도봉구', '동작구', '마포구', '서대문구', '서초구', '성동구', '송파구',\n",
              "       '양천구', '용산구', '은평구', '종로구', '중구', '중랑구'],\n",
              "      dtype='object')"
            ]
          },
          "metadata": {},
          "execution_count": 167
        }
      ]
    },
    {
      "cell_type": "code",
      "source": [
        "# 일별 유동인구 증가량 계산\n",
        "data2['changeRate'] = 0  # 증감률 컬럼 초기화\n",
        "for i in range(1, len(data2)):\n",
        "  prev_visitor = data2.iloc[i-1, data2.columns.get_loc('VisitNum')]\n",
        "  curr_visitor = data2.iloc[i, data2.columns.get_loc('VisitNum')]\n",
        "  rate = (curr_visitor - prev_visitor) / prev_visitor\n",
        "  if rate >= 50 :\n",
        "    data2.iloc[i, data2.columns.get_loc('changeRate')] = 50\n",
        "  else :\n",
        "    data2.iloc[i, data2.columns.get_loc('changeRate')] = rate"
      ],
      "metadata": {
        "id": "F0LmnjEK4NvN"
      },
      "execution_count": null,
      "outputs": []
    },
    {
      "cell_type": "code",
      "source": [
        "# 유동인구증감률과 일일강우량 상관관계 -> 안넣는게 좋을듯...\n",
        "data2.plot.scatter(x='DailyRain', y='changeRate')"
      ],
      "metadata": {
        "colab": {
          "base_uri": "https://localhost:8080/",
          "height": 467
        },
        "id": "UFdbn7Yy4mkZ",
        "outputId": "b2658e00-2336-4397-e3ef-8ea6b7c71577"
      },
      "execution_count": null,
      "outputs": [
        {
          "output_type": "execute_result",
          "data": {
            "text/plain": [
              "<Axes: xlabel='DailyRain', ylabel='changeRate'>"
            ]
          },
          "metadata": {},
          "execution_count": 57
        },
        {
          "output_type": "display_data",
          "data": {
            "text/plain": [
              "<Figure size 640x480 with 1 Axes>"
            ],
            "image/png": "[encoded data removed]"
          },
          "metadata": {}
        }
      ]
    },
    {
      "cell_type": "code",
      "source": [
        "data2.plot.scatter(x='DailyRain', y='VisitNum')"
      ],
      "metadata": {
        "colab": {
          "base_uri": "https://localhost:8080/",
          "height": 467
        },
        "id": "UAQvN_Vo5nKj",
        "outputId": "b1a74a98-53b5-43cd-83c1-0c8783e6a163"
      },
      "execution_count": null,
      "outputs": [
        {
          "output_type": "execute_result",
          "data": {
            "text/plain": [
              "<Axes: xlabel='DailyRain', ylabel='VisitNum'>"
            ]
          },
          "metadata": {},
          "execution_count": 56
        },
        {
          "output_type": "display_data",
          "data": {
            "text/plain": [
              "<Figure size 640x480 with 1 Axes>"
            ],
            "image/png": "[encoded data removed]"
          },
          "metadata": {}
        }
      ]
    },
    {
      "cell_type": "code",
      "source": [
        "#여러 열을 지정하여 각 행마다 그 열들의 평균을 구하려면?\n",
        "#data_mean = data[['PM10',\t'PM2.5',\t'O3',\t'NO2',\t'CO',\t'SO2']].mean(axis=1)\n",
        "# data['total_pollution'] = data[['PM10',\t'PM2.5',\t'O3',\t'NO2',\t'CO',\t'SO2']].mean(axis=1) #표에 추가"
      ],
      "metadata": {
        "id": "vFXlOqGiQwLQ"
      },
      "execution_count": null,
      "outputs": []
    },
    {
      "cell_type": "code",
      "source": [
        "# from sklearn import preprocessing\n",
        "\n",
        "# scaler = preprocessing.StandardScaler()\n",
        "# standardized_data = scaler.fit_transform(data2[['PM10', 'PM2.5', 'O3', 'NO2', 'CO', 'SO2', 'DailyRain', 'changeRate','VisitNum']])\n",
        "\n",
        "# standardized_df = pd.DataFrame(standardized_data, columns=['PM10', 'PM2.5', 'O3', 'NO2', 'CO', 'SO2', 'DailyRain', 'changeRate', 'VisitNum'])"
      ],
      "metadata": {
        "id": "somJZuzpGAX4"
      },
      "execution_count": null,
      "outputs": []
    },
    {
      "cell_type": "code",
      "source": [
        "len(['PM10', 'PM2.5', 'O3', 'NO2', 'CO', 'SO2', 'DailyRain', '강남구', '강동구', '강북구', '강서구', '관악구', '광진구',\n",
        "       '구로구', '금천구', '노원구', '도봉구', '동작구', '마포구', '서대문구', '서초구', '성동구', '송파구',\n",
        "       '양천구', '용산구', '은평구', '종로구', '중구', '중랑구'])"
      ],
      "metadata": {
        "colab": {
          "base_uri": "https://localhost:8080/"
        },
        "id": "mzZZ9bESJI6R",
        "outputId": "89e02cf9-63a7-4391-a93f-7e88338e65ef"
      },
      "execution_count": null,
      "outputs": [
        {
          "output_type": "execute_result",
          "data": {
            "text/plain": [
              "29"
            ]
          },
          "metadata": {},
          "execution_count": 168
        }
      ]
    },
    {
      "cell_type": "code",
      "source": [
        "from sklearn.model_selection import train_test_split\n",
        "\n",
        "def load_and_split_data(data, test_size=0.2, random_state=42):\n",
        "\n",
        "    # 특성 변수 (X)와 타깃 변수 (y)를 분리\n",
        "    X = data[['PM10', 'PM2.5', 'O3', 'NO2', 'CO', 'SO2', 'DailyRain', '강남구', '강동구', '강북구', '강서구', '관악구', '광진구',\n",
        "       '구로구', '금천구', '노원구', '도봉구', '동작구', '마포구', '서대문구', '서초구', '성동구', '송파구',\n",
        "       '양천구', '용산구', '은평구', '종로구', '중구', '중랑구']]\n",
        "    y = data['VisitNum']\n",
        "\n",
        "    # 데이터셋을 train, val, test로 분할\n",
        "    X_train, X_test, y_train, y_test = train_test_split(X, y, test_size=test_size, random_state=random_state)\n",
        "    X_train, X_val, y_train, y_val = train_test_split(X_train, y_train, test_size=test_size, random_state=random_state)\n",
        "\n",
        "    return X_train, X_val, X_test, y_train, y_val, y_test"
      ],
      "metadata": {
        "id": "uxfegThQTpAv"
      },
      "execution_count": null,
      "outputs": []
    },
    {
      "cell_type": "code",
      "source": [
        "from sklearn.model_selection import train_test_split\n",
        "from sklearn.feature_extraction import DictVectorizer\n",
        "from sklearn.ensemble import RandomForestRegressor\n",
        "from sklearn.linear_model import LinearRegression\n",
        "from sklearn.metrics import r2_score\n",
        "from sklearn.metrics import mean_squared_error\n",
        "\n",
        "# 데이터를 학습/테스트용 데이터로 분리합니다.\n",
        "#X_train, X_test, y_train, y_test = train_test_split(X, y, test_size=0.2, random_state=42) #깃허브에서는 사이즈를 0.3으로 둠 validation을 안 한듯\n",
        "# 증감률 추가\n",
        "X_train, X_val, X_test, y_train, y_val, y_test = load_and_split_data(data2)\n",
        "## X = df.loc[:, df.columns != 'price']"
      ],
      "metadata": {
        "id": "KpTryu7S8roK"
      },
      "execution_count": null,
      "outputs": []
    },
    {
      "cell_type": "code",
      "source": [
        "ols_regr = LinearRegression()\n",
        "ols_regr.fit(X_train,y_train)"
      ],
      "metadata": {
        "colab": {
          "base_uri": "https://localhost:8080/",
          "height": 74
        },
        "id": "Ke5QK_uU8thU",
        "outputId": "2d1e6e03-2637-460d-9d7d-fb13fefb299d"
      },
      "execution_count": null,
      "outputs": [
        {
          "output_type": "execute_result",
          "data": {
            "text/plain": [
              "LinearRegression()"
            ],
            "text/html": [
              "<style>#sk-container-id-6 {color: black;background-color: white;}#sk-container-id-6 pre{padding: 0;}#sk-container-id-6 div.sk-toggleable {background-color: white;}#sk-container-id-6 label.sk-toggleable__label {cursor: pointer;display: block;width: 100%;margin-bottom: 0;padding: 0.3em;box-sizing: border-box;text-align: center;}#sk-container-id-6 label.sk-toggleable__label-arrow:before {content: \"▸\";float: left;margin-right: 0.25em;color: #696969;}#sk-container-id-6 label.sk-toggleable__label-arrow:hover:before {color: black;}#sk-container-id-6 div.sk-estimator:hover label.sk-toggleable__label-arrow:before {color: black;}#sk-container-id-6 div.sk-toggleable__content {max-height: 0;max-width: 0;overflow: hidden;text-align: left;background-color: #f0f8ff;}#sk-container-id-6 div.sk-toggleable__content pre {margin: 0.2em;color: black;border-radius: 0.25em;background-color: #f0f8ff;}#sk-container-id-6 input.sk-toggleable__control:checked~div.sk-toggleable__content {max-height: 200px;max-width: 100%;overflow: auto;}#sk-container-id-6 input.sk-toggleable__control:checked~label.sk-toggleable__label-arrow:before {content: \"▾\";}#sk-container-id-6 div.sk-estimator input.sk-toggleable__control:checked~label.sk-toggleable__label {background-color: #d4ebff;}#sk-container-id-6 div.sk-label input.sk-toggleable__control:checked~label.sk-toggleable__label {background-color: #d4ebff;}#sk-container-id-6 input.sk-hidden--visually {border: 0;clip: rect(1px 1px 1px 1px);clip: rect(1px, 1px, 1px, 1px);height: 1px;margin: -1px;overflow: hidden;padding: 0;position: absolute;width: 1px;}#sk-container-id-6 div.sk-estimator {font-family: monospace;background-color: #f0f8ff;border: 1px dotted black;border-radius: 0.25em;box-sizing: border-box;margin-bottom: 0.5em;}#sk-container-id-6 div.sk-estimator:hover {background-color: #d4ebff;}#sk-container-id-6 div.sk-parallel-item::after {content: \"\";width: 100%;border-bottom: 1px solid gray;flex-grow: 1;}#sk-container-id-6 div.sk-label:hover label.sk-toggleable__label {background-color: #d4ebff;}#sk-container-id-6 div.sk-serial::before {content: \"\";position: absolute;border-left: 1px solid gray;box-sizing: border-box;top: 0;bottom: 0;left: 50%;z-index: 0;}#sk-container-id-6 div.sk-serial {display: flex;flex-direction: column;align-items: center;background-color: white;padding-right: 0.2em;padding-left: 0.2em;position: relative;}#sk-container-id-6 div.sk-item {position: relative;z-index: 1;}#sk-container-id-6 div.sk-parallel {display: flex;align-items: stretch;justify-content: center;background-color: white;position: relative;}#sk-container-id-6 div.sk-item::before, #sk-container-id-6 div.sk-parallel-item::before {content: \"\";position: absolute;border-left: 1px solid gray;box-sizing: border-box;top: 0;bottom: 0;left: 50%;z-index: -1;}#sk-container-id-6 div.sk-parallel-item {display: flex;flex-direction: column;z-index: 1;position: relative;background-color: white;}#sk-container-id-6 div.sk-parallel-item:first-child::after {align-self: flex-end;width: 50%;}#sk-container-id-6 div.sk-parallel-item:last-child::after {align-self: flex-start;width: 50%;}#sk-container-id-6 div.sk-parallel-item:only-child::after {width: 0;}#sk-container-id-6 div.sk-dashed-wrapped {border: 1px dashed gray;margin: 0 0.4em 0.5em 0.4em;box-sizing: border-box;padding-bottom: 0.4em;background-color: white;}#sk-container-id-6 div.sk-label label {font-family: monospace;font-weight: bold;display: inline-block;line-height: 1.2em;}#sk-container-id-6 div.sk-label-container {text-align: center;}#sk-container-id-6 div.sk-container {/* jupyter's `normalize.less` sets `[hidden] { display: none; }` but bootstrap.min.css set `[hidden] { display: none !important; }` so we also need the `!important` here to be able to override the default hidden behavior on the sphinx rendered scikit-learn.org. See: https://github.com/scikit-learn/scikit-learn/issues/21755 */display: inline-block !important;position: relative;}#sk-container-id-6 div.sk-text-repr-fallback {display: none;}</style><div id=\"sk-container-id-6\" class=\"sk-top-container\"><div class=\"sk-text-repr-fallback\"><pre>LinearRegression()</pre><b>In a Jupyter environment, please rerun this cell to show the HTML representation or trust the notebook. <br />On GitHub, the HTML representation is unable to render, please try loading this page with nbviewer.org.</b></div><div class=\"sk-container\" hidden><div class=\"sk-item\"><div class=\"sk-estimator sk-toggleable\"><input class=\"sk-toggleable__control sk-hidden--visually\" id=\"sk-estimator-id-8\" type=\"checkbox\" checked><label for=\"sk-estimator-id-8\" class=\"sk-toggleable__label sk-toggleable__label-arrow\">LinearRegression</label><div class=\"sk-toggleable__content\"><pre>LinearRegression()</pre></div></div></div></div></div>"
            ]
          },
          "metadata": {},
          "execution_count": 100
        }
      ]
    },
    {
      "cell_type": "code",
      "source": [
        "ols_regr.fit(X_train, y_train)\n",
        "y_train_pred = ols_regr.predict(X_train)\n",
        "y_test_pred = ols_regr.predict(X_test)\n",
        "\n",
        "# 학습한 모델을 평가합니다.\n",
        "print('MSE train: %.3f, test: %.3f' % (\n",
        "        mean_squared_error(y_train, y_train_pred),\n",
        "        mean_squared_error(y_test, y_test_pred)))\n",
        "print('R^2 train: %.3f, test: %.3f' % (\n",
        "        r2_score(y_train, y_train_pred),\n",
        "        r2_score(y_test, y_test_pred)))"
      ],
      "metadata": {
        "colab": {
          "base_uri": "https://localhost:8080/"
        },
        "id": "i8jQDlb-8w-k",
        "outputId": "a03e3d7a-c796-43b2-ca41-5bfd27eb9ad6"
      },
      "execution_count": null,
      "outputs": [
        {
          "output_type": "stream",
          "name": "stdout",
          "text": [
            "MSE train: 948129894.866, test: 907239844.121\n",
            "R^2 train: 0.521, test: 0.542\n"
          ]
        }
      ]
    },
    {
      "cell_type": "code",
      "source": [
        "# 랜덤 포레스트 모델을 학습합니다.\n",
        "forest = RandomForestRegressor(n_estimators=1000,\n",
        "                               criterion='squared_error', max_features=4, n_jobs=-1,random_state=0) #깃허브에서는 criterion='mse'로 둠 -> 이러니까 오류떠서 수정함\n",
        "forest.fit(X_train, y_train)\n",
        "y_train_pred = forest.predict(X_train)\n",
        "y_test_pred = forest.predict(X_test)\n",
        "\n",
        "# 학습한 모델을 평가합니다.\n",
        "print('MSE train: %.3f, test: %.3f' % (\n",
        "        mean_squared_error(y_train, y_train_pred),\n",
        "        mean_squared_error(y_test, y_test_pred)))\n",
        "print('R^2 train: %.3f, test: %.3f' % (\n",
        "        r2_score(y_train, y_train_pred),\n",
        "        r2_score(y_test, y_test_pred)))"
      ],
      "metadata": {
        "colab": {
          "base_uri": "https://localhost:8080/"
        },
        "id": "JBiLOAADc_T5",
        "outputId": "5710a90e-a34c-4805-b6cb-30e5b6016936"
      },
      "execution_count": null,
      "outputs": [
        {
          "output_type": "stream",
          "name": "stdout",
          "text": [
            "MSE train: 98977697.667, test: 742897232.085\n",
            "R^2 train: 0.950, test: 0.625\n"
          ]
        }
      ]
    },
    {
      "cell_type": "code",
      "source": [
        "# 학습한 모델의 피처 중요도를 그래프로 살펴봅니다.\n",
        "importances = forest.feature_importances_\n",
        "indices = np.argsort(importances)[::-1]\n",
        "X = data2[['PM10', 'PM2.5', 'O3', 'NO2', 'CO', 'SO2', 'DailyRain', '강남구', '강동구', '강북구', '강서구', '관악구', '광진구',\n",
        "       '구로구', '금천구', '노원구', '도봉구', '동작구', '마포구', '서대문구', '서초구', '성동구', '송파구',\n",
        "       '양천구', '용산구', '은평구', '종로구', '중구', '중랑구']]\n",
        "plt.bar(range(X.shape[1]), importances[indices])\n",
        "\n",
        "# 학습한 모델의 피처 중요도를 출력합니다.\n",
        "feat_labels = X.columns.tolist()\n",
        "feature = list(zip(feat_labels, forest.feature_importances_))\n",
        "sorted(feature, key=lambda tup: tup[1], reverse=True)[:10]"
      ],
      "metadata": {
        "colab": {
          "base_uri": "https://localhost:8080/",
          "height": 612
        },
        "id": "7izrF6TrVVsV",
        "outputId": "915e099f-69fc-4b67-984e-8e0e2c6ce6a1"
      },
      "execution_count": null,
      "outputs": [
        {
          "output_type": "execute_result",
          "data": {
            "text/plain": [
              "[('O3', 0.11786924233012586),\n",
              " ('PM10', 0.09072102651332639),\n",
              " ('동작구', 0.0894557750293513),\n",
              " ('NO2', 0.0806142687431887),\n",
              " ('CO', 0.07352509875897363),\n",
              " ('PM2.5', 0.06926662054906883),\n",
              " ('구로구', 0.06385088253808488),\n",
              " ('SO2', 0.06375606157963319),\n",
              " ('강남구', 0.04632110726369),\n",
              " ('용산구', 0.03738891588910703)]"
            ]
          },
          "metadata": {},
          "execution_count": 121
        },
        {
          "output_type": "display_data",
          "data": {
            "text/plain": [
              "<Figure size 640x480 with 1 Axes>"
            ],
            "image/png": "[encoded data removed]"
          },
          "metadata": {}
        }
      ]
    },
    {
      "cell_type": "code",
      "source": [
        "# 테스트 데이터의 y값과, 예측된 y값을 scatter plot을 활용하여 상관관계를 살펴봅니다.\n",
        "plt.scatter(y_test.values, y_test_pred)"
      ],
      "metadata": {
        "colab": {
          "base_uri": "https://localhost:8080/",
          "height": 448
        },
        "id": "0wZE1IcsXJO4",
        "outputId": "428ea6e6-ba33-4577-cfb4-991f49d6c263"
      },
      "execution_count": null,
      "outputs": [
        {
          "output_type": "execute_result",
          "data": {
            "text/plain": [
              "<matplotlib.collections.PathCollection at 0x7b538ff8e350>"
            ]
          },
          "metadata": {},
          "execution_count": 124
        },
        {
          "output_type": "display_data",
          "data": {
            "text/plain": [
              "<Figure size 640x480 with 1 Axes>"
            ],
            "image/png": "[encoded data removed]"
          },
          "metadata": {}
        }
      ]
    },
    {
      "cell_type": "markdown",
      "source": [
        "### [최적의 모델 파라미터 찾기]"
      ],
      "metadata": {
        "id": "BukhspaCXaOj"
      }
    },
    {
      "cell_type": "code",
      "source": [
        "# 시간적인 면에서의 효율을 위해 랜덤서치사용함\n",
        "from sklearn.model_selection import RandomizedSearchCV\n",
        "\n",
        "# Randomized Search로 찾아낼 파라미터 후보군을 각각 리스트로 선정합니다.\n",
        "n_estimators = [int(x) for x in np.linspace(start = 200, stop = 2000, num = 10)]\n",
        "max_features = ['auto', 'sqrt']\n",
        "max_depth = [int(x) for x in np.linspace(10, 110, num = 11)]\n",
        "max_depth.append(None)\n",
        "bootstrap = [True, False]\n",
        "\n",
        "# RandomizedSearchCV 오브젝트를 생성하여 모델을 정의합니다.\n",
        "random_grid = {'n_estimators': n_estimators,\n",
        "               'max_features': max_features,\n",
        "               'max_depth': max_depth,\n",
        "               'bootstrap': bootstrap}\n",
        "forest = RandomForestRegressor()\n",
        "optimal_forest = RandomizedSearchCV(estimator = forest,\n",
        "                                    param_distributions = random_grid,\n",
        "                                    n_iter = 100,\n",
        "                                    cv = 3,\n",
        "                                    verbose=2,\n",
        "                                    random_state=42,\n",
        "                                    n_jobs = -1)\n",
        "\n",
        "# RandomizedSearchCV 모델을 학습합니다.\n",
        "X = data2[['PM10', 'PM2.5', 'O3', 'NO2', 'CO', 'SO2', 'DailyRain', '강남구', '강동구', '강북구', '강서구', '관악구', '광진구',\n",
        "       '구로구', '금천구', '노원구', '도봉구', '동작구', '마포구', '서대문구', '서초구', '성동구', '송파구',\n",
        "       '양천구', '용산구', '은평구', '종로구', '중구', '중랑구']]\n",
        "y = data['VisitNum']\n",
        "optimal_forest.fit(X, y)"
      ],
      "metadata": {
        "colab": {
          "base_uri": "https://localhost:8080/",
          "height": 158
        },
        "id": "4iU1-M28Xd8J",
        "outputId": "f1a8c8df-23ff-4131-c2f4-9799592c87ef"
      },
      "execution_count": null,
      "outputs": [
        {
          "output_type": "stream",
          "name": "stdout",
          "text": [
            "Fitting 3 folds for each of 100 candidates, totalling 300 fits\n"
          ]
        },
        {
          "output_type": "execute_result",
          "data": {
            "text/plain": [
              "RandomizedSearchCV(cv=3, estimator=RandomForestRegressor(), n_iter=100,\n",
              "                   n_jobs=-1,\n",
              "                   param_distributions={'bootstrap': [True, False],\n",
              "                                        'max_depth': [10, 20, 30, 40, 50, 60,\n",
              "                                                      70, 80, 90, 100, 110,\n",
              "                                                      None],\n",
              "                                        'max_features': ['auto', 'sqrt'],\n",
              "                                        'n_estimators': [200, 400, 600, 800,\n",
              "                                                         1000, 1200, 1400, 1600,\n",
              "                                                         1800, 2000]},\n",
              "                   random_state=42, verbose=2)"
            ],
            "text/html": [
              "<style>#sk-container-id-8 {color: black;background-color: white;}#sk-container-id-8 pre{padding: 0;}#sk-container-id-8 div.sk-toggleable {background-color: white;}#sk-container-id-8 label.sk-toggleable__label {cursor: pointer;display: block;width: 100%;margin-bottom: 0;padding: 0.3em;box-sizing: border-box;text-align: center;}#sk-container-id-8 label.sk-toggleable__label-arrow:before {content: \"▸\";float: left;margin-right: 0.25em;color: #696969;}#sk-container-id-8 label.sk-toggleable__label-arrow:hover:before {color: black;}#sk-container-id-8 div.sk-estimator:hover label.sk-toggleable__label-arrow:before {color: black;}#sk-container-id-8 div.sk-toggleable__content {max-height: 0;max-width: 0;overflow: hidden;text-align: left;background-color: #f0f8ff;}#sk-container-id-8 div.sk-toggleable__content pre {margin: 0.2em;color: black;border-radius: 0.25em;background-color: #f0f8ff;}#sk-container-id-8 input.sk-toggleable__control:checked~div.sk-toggleable__content {max-height: 200px;max-width: 100%;overflow: auto;}#sk-container-id-8 input.sk-toggleable__control:checked~label.sk-toggleable__label-arrow:before {content: \"▾\";}#sk-container-id-8 div.sk-estimator input.sk-toggleable__control:checked~label.sk-toggleable__label {background-color: #d4ebff;}#sk-container-id-8 div.sk-label input.sk-toggleable__control:checked~label.sk-toggleable__label {background-color: #d4ebff;}#sk-container-id-8 input.sk-hidden--visually {border: 0;clip: rect(1px 1px 1px 1px);clip: rect(1px, 1px, 1px, 1px);height: 1px;margin: -1px;overflow: hidden;padding: 0;position: absolute;width: 1px;}#sk-container-id-8 div.sk-estimator {font-family: monospace;background-color: #f0f8ff;border: 1px dotted black;border-radius: 0.25em;box-sizing: border-box;margin-bottom: 0.5em;}#sk-container-id-8 div.sk-estimator:hover {background-color: #d4ebff;}#sk-container-id-8 div.sk-parallel-item::after {content: \"\";width: 100%;border-bottom: 1px solid gray;flex-grow: 1;}#sk-container-id-8 div.sk-label:hover label.sk-toggleable__label {background-color: #d4ebff;}#sk-container-id-8 div.sk-serial::before {content: \"\";position: absolute;border-left: 1px solid gray;box-sizing: border-box;top: 0;bottom: 0;left: 50%;z-index: 0;}#sk-container-id-8 div.sk-serial {display: flex;flex-direction: column;align-items: center;background-color: white;padding-right: 0.2em;padding-left: 0.2em;position: relative;}#sk-container-id-8 div.sk-item {position: relative;z-index: 1;}#sk-container-id-8 div.sk-parallel {display: flex;align-items: stretch;justify-content: center;background-color: white;position: relative;}#sk-container-id-8 div.sk-item::before, #sk-container-id-8 div.sk-parallel-item::before {content: \"\";position: absolute;border-left: 1px solid gray;box-sizing: border-box;top: 0;bottom: 0;left: 50%;z-index: -1;}#sk-container-id-8 div.sk-parallel-item {display: flex;flex-direction: column;z-index: 1;position: relative;background-color: white;}#sk-container-id-8 div.sk-parallel-item:first-child::after {align-self: flex-end;width: 50%;}#sk-container-id-8 div.sk-parallel-item:last-child::after {align-self: flex-start;width: 50%;}#sk-container-id-8 div.sk-parallel-item:only-child::after {width: 0;}#sk-container-id-8 div.sk-dashed-wrapped {border: 1px dashed gray;margin: 0 0.4em 0.5em 0.4em;box-sizing: border-box;padding-bottom: 0.4em;background-color: white;}#sk-container-id-8 div.sk-label label {font-family: monospace;font-weight: bold;display: inline-block;line-height: 1.2em;}#sk-container-id-8 div.sk-label-container {text-align: center;}#sk-container-id-8 div.sk-container {/* jupyter's `normalize.less` sets `[hidden] { display: none; }` but bootstrap.min.css set `[hidden] { display: none !important; }` so we also need the `!important` here to be able to override the default hidden behavior on the sphinx rendered scikit-learn.org. See: https://github.com/scikit-learn/scikit-learn/issues/21755 */display: inline-block !important;position: relative;}#sk-container-id-8 div.sk-text-repr-fallback {display: none;}</style><div id=\"sk-container-id-8\" class=\"sk-top-container\"><div class=\"sk-text-repr-fallback\"><pre>RandomizedSearchCV(cv=3, estimator=RandomForestRegressor(), n_iter=100,\n",
              "                   n_jobs=-1,\n",
              "                   param_distributions={&#x27;bootstrap&#x27;: [True, False],\n",
              "                                        &#x27;max_depth&#x27;: [10, 20, 30, 40, 50, 60,\n",
              "                                                      70, 80, 90, 100, 110,\n",
              "                                                      None],\n",
              "                                        &#x27;max_features&#x27;: [&#x27;auto&#x27;, &#x27;sqrt&#x27;],\n",
              "                                        &#x27;n_estimators&#x27;: [200, 400, 600, 800,\n",
              "                                                         1000, 1200, 1400, 1600,\n",
              "                                                         1800, 2000]},\n",
              "                   random_state=42, verbose=2)</pre><b>In a Jupyter environment, please rerun this cell to show the HTML representation or trust the notebook. <br />On GitHub, the HTML representation is unable to render, please try loading this page with nbviewer.org.</b></div><div class=\"sk-container\" hidden><div class=\"sk-item sk-dashed-wrapped\"><div class=\"sk-label-container\"><div class=\"sk-label sk-toggleable\"><input class=\"sk-toggleable__control sk-hidden--visually\" id=\"sk-estimator-id-12\" type=\"checkbox\" ><label for=\"sk-estimator-id-12\" class=\"sk-toggleable__label sk-toggleable__label-arrow\">RandomizedSearchCV</label><div class=\"sk-toggleable__content\"><pre>RandomizedSearchCV(cv=3, estimator=RandomForestRegressor(), n_iter=100,\n",
              "                   n_jobs=-1,\n",
              "                   param_distributions={&#x27;bootstrap&#x27;: [True, False],\n",
              "                                        &#x27;max_depth&#x27;: [10, 20, 30, 40, 50, 60,\n",
              "                                                      70, 80, 90, 100, 110,\n",
              "                                                      None],\n",
              "                                        &#x27;max_features&#x27;: [&#x27;auto&#x27;, &#x27;sqrt&#x27;],\n",
              "                                        &#x27;n_estimators&#x27;: [200, 400, 600, 800,\n",
              "                                                         1000, 1200, 1400, 1600,\n",
              "                                                         1800, 2000]},\n",
              "                   random_state=42, verbose=2)</pre></div></div></div><div class=\"sk-parallel\"><div class=\"sk-parallel-item\"><div class=\"sk-item\"><div class=\"sk-label-container\"><div class=\"sk-label sk-toggleable\"><input class=\"sk-toggleable__control sk-hidden--visually\" id=\"sk-estimator-id-13\" type=\"checkbox\" ><label for=\"sk-estimator-id-13\" class=\"sk-toggleable__label sk-toggleable__label-arrow\">estimator: RandomForestRegressor</label><div class=\"sk-toggleable__content\"><pre>RandomForestRegressor()</pre></div></div></div><div class=\"sk-serial\"><div class=\"sk-item\"><div class=\"sk-estimator sk-toggleable\"><input class=\"sk-toggleable__control sk-hidden--visually\" id=\"sk-estimator-id-14\" type=\"checkbox\" ><label for=\"sk-estimator-id-14\" class=\"sk-toggleable__label sk-toggleable__label-arrow\">RandomForestRegressor</label><div class=\"sk-toggleable__content\"><pre>RandomForestRegressor()</pre></div></div></div></div></div></div></div></div></div></div>"
            ]
          },
          "metadata": {},
          "execution_count": 126
        }
      ]
    },
    {
      "cell_type": "code",
      "source": [
        "# 앞서 선정한 파라미터 후보군 중에서 가장 좋은 결과를 보인 파라미터의 조합을 출력합니다.\n",
        "optimal_forest.best_params_"
      ],
      "metadata": {
        "colab": {
          "base_uri": "https://localhost:8080/"
        },
        "id": "LKrVucnWmnls",
        "outputId": "945649b5-564c-4350-a807-38d2e5666dd7"
      },
      "execution_count": null,
      "outputs": [
        {
          "output_type": "execute_result",
          "data": {
            "text/plain": [
              "{'n_estimators': 400,\n",
              " 'max_features': 'sqrt',\n",
              " 'max_depth': 110,\n",
              " 'bootstrap': True}"
            ]
          },
          "metadata": {},
          "execution_count": 127
        }
      ]
    },
    {
      "cell_type": "code",
      "source": [
        "# 최적의 파라미터를 적용한 모델로 유동인구 수를 예측하고 평가합니다.\n",
        "y_train_pred = optimal_forest.predict(X_train)\n",
        "y_test_pred = optimal_forest.predict(X_test)\n",
        "print('MSE train: %.3f, test: %.3f' % (\n",
        "        mean_squared_error(y_train, y_train_pred),\n",
        "        mean_squared_error(y_test, y_test_pred)))\n",
        "print('R^2 train: %.3f, test: %.3f' % (\n",
        "        r2_score(y_train, y_train_pred),\n",
        "        r2_score(y_test, y_test_pred)))\n",
        "\n",
        "# 유동인구 예측 모델의 피처 중요도 plot을 출력합니다.\n",
        "importances = optimal_forest.best_estimator_.feature_importances_\n",
        "indices = np.argsort(importances)[::-1]\n",
        "plt.bar(range(X.shape[1]), importances[indices])\n",
        "\n",
        "# 유동인구 예측 모델의 피처 중요도를 출력합니다.\n",
        "feat_labels = X.columns.tolist()\n",
        "feature = list(zip(feat_labels, optimal_forest.best_estimator_.feature_importances_))\n",
        "sorted(feature, key=lambda tup: tup[1], reverse=True)[:10]"
      ],
      "metadata": {
        "colab": {
          "base_uri": "https://localhost:8080/",
          "height": 649
        },
        "id": "7Zg1C6wWmohJ",
        "outputId": "2a3c6f57-4b9e-4289-8f59-2a26ad9746e5"
      },
      "execution_count": null,
      "outputs": [
        {
          "output_type": "stream",
          "name": "stdout",
          "text": [
            "MSE train: 90884176.887, test: 96661059.925\n",
            "R^2 train: 0.954, test: 0.951\n"
          ]
        },
        {
          "output_type": "execute_result",
          "data": {
            "text/plain": [
              "[('O3', 0.12334444461810702),\n",
              " ('동작구', 0.09497136833736732),\n",
              " ('PM10', 0.08625620327647791),\n",
              " ('NO2', 0.07831412436348828),\n",
              " ('CO', 0.06851405341897575),\n",
              " ('PM2.5', 0.06533404225459512),\n",
              " ('구로구', 0.06257632340157877),\n",
              " ('SO2', 0.056636701219002196),\n",
              " ('강남구', 0.044578747393474435),\n",
              " ('도봉구', 0.04205378709778581)]"
            ]
          },
          "metadata": {},
          "execution_count": 154
        },
        {
          "output_type": "display_data",
          "data": {
            "text/plain": [
              "<Figure size 640x480 with 1 Axes>"
            ],
            "image/png": "[encoded data removed]"
          },
          "metadata": {}
        }
      ]
    },
    {
      "cell_type": "code",
      "source": [
        "print(optimal_forest.score(X,y)) # 이거랑\n",
        "print(r2_score(y_test, y_test_pred)) # 이게 먼차이지? -> r2_score는 sklearn에서 제공하는 함수"
      ],
      "metadata": {
        "colab": {
          "base_uri": "https://localhost:8080/"
        },
        "id": "0eykoc1ft6Cq",
        "outputId": "3eb4564f-4be7-4394-8b80-aafc77d735a9"
      },
      "execution_count": null,
      "outputs": [
        {
          "output_type": "stream",
          "name": "stdout",
          "text": [
            "0.9527372364721257\n",
            "0.9512156529847846\n"
          ]
        }
      ]
    },
    {
      "cell_type": "code",
      "source": [
        "# 테스트 데이터의 y값과, 예측된 y값을 scatter plot을 활용하여 상관관계를 살펴봅니다.\n",
        "plt.scatter(y_test.values, y_test_pred)"
      ],
      "metadata": {
        "colab": {
          "base_uri": "https://localhost:8080/",
          "height": 448
        },
        "id": "MCeRvtZ6m9k2",
        "outputId": "73370b39-0c58-421d-8050-a2f8877de52d"
      },
      "execution_count": null,
      "outputs": [
        {
          "output_type": "execute_result",
          "data": {
            "text/plain": [
              "<matplotlib.collections.PathCollection at 0x7b538feeb0a0>"
            ]
          },
          "metadata": {},
          "execution_count": 129
        },
        {
          "output_type": "display_data",
          "data": {
            "text/plain": [
              "<Figure size 640x480 with 1 Axes>"
            ],
            "image/png": "[encoded data removed]"
          },
          "metadata": {}
        }
      ]
    },
    {
      "cell_type": "code",
      "source": [
        "print(X.iloc[0]['PM10'])\n",
        "X.iloc[0]['PM10'] = 25\n",
        "print(X.iloc[0]['PM10'])\n",
        "X"
      ],
      "metadata": {
        "colab": {
          "base_uri": "https://localhost:8080/",
          "height": 460
        },
        "id": "RUaROsGooxrM",
        "outputId": "642730c9-a4b3-4a7d-82b7-37df7b8d83bb"
      },
      "execution_count": null,
      "outputs": [
        {
          "output_type": "stream",
          "name": "stdout",
          "text": [
            "21.0\n",
            "21.0\n"
          ]
        },
        {
          "output_type": "execute_result",
          "data": {
            "text/plain": [
              "      PM10  PM2.5      O3     NO2    CO     SO2  DailyRain  강남구  강동구  강북구  \\\n",
              "0     21.0   10.0  0.0287  0.0130  0.38  0.0028        0.0    0    0    0   \n",
              "1     26.0   15.0  0.0194  0.0259  0.54  0.0025        0.0    0    0    0   \n",
              "2     28.0   20.0  0.0176  0.0333  0.62  0.0026        0.0    0    0    0   \n",
              "3     45.0   33.0  0.0107  0.0445  0.80  0.0028        0.0    0    0    0   \n",
              "4     66.0   54.0  0.0109  0.0453  0.88  0.0028        0.0    0    0    0   \n",
              "...    ...    ...     ...     ...   ...     ...        ...  ...  ...  ...   \n",
              "3118  17.0   11.0  0.0277  0.0178  0.31  0.0022       65.0    0    0    0   \n",
              "3119  37.0   11.0  0.0465  0.0174  0.32  0.0022        2.0    0    0    0   \n",
              "3120  35.0   21.0  0.0473  0.0204  0.37  0.0023        0.0    0    0    0   \n",
              "3121  33.0   22.0  0.0328  0.0198  0.31  0.0021      133.5    0    0    0   \n",
              "3122  35.0   25.0  0.0462  0.0260  0.41  0.0022        0.0    0    0    0   \n",
              "\n",
              "      ...  서대문구  서초구  성동구  송파구  양천구  용산구  은평구  종로구  중구  중랑구  \n",
              "0     ...     0    0    0    0    0    0    0    0   0    0  \n",
              "1     ...     0    0    0    0    0    0    0    0   0    0  \n",
              "2     ...     0    0    0    0    0    0    0    0   0    0  \n",
              "3     ...     0    0    0    0    0    0    0    0   0    0  \n",
              "4     ...     0    0    0    0    0    0    0    0   0    0  \n",
              "...   ...   ...  ...  ...  ...  ...  ...  ...  ...  ..  ...  \n",
              "3118  ...     0    0    0    0    0    0    0    0   0    1  \n",
              "3119  ...     0    0    0    0    0    0    0    0   0    1  \n",
              "3120  ...     0    0    0    0    0    0    0    0   0    1  \n",
              "3121  ...     0    0    0    0    0    0    0    0   0    1  \n",
              "3122  ...     0    0    0    0    0    0    0    0   0    1  \n",
              "\n",
              "[3123 rows x 29 columns]"
            ],
            "text/html": [
              "\n",
              "\n",
              "  <div id=\"df-ca4878a4-e152-4b95-b5e8-93499811d077\">\n",
              "    <div class=\"colab-df-container\">\n",
              "      <div>\n",
              "<style scoped>\n",
              "    .dataframe tbody tr th:only-of-type {\n",
              "        vertical-align: middle;\n",
              "    }\n",
              "\n",
              "    .dataframe tbody tr th {\n",
              "        vertical-align: top;\n",
              "    }\n",
              "\n",
              "    .dataframe thead th {\n",
              "        text-align: right;\n",
              "    }\n",
              "</style>\n",
              "<table border=\"1\" class=\"dataframe\">\n",
              "  <thead>\n",
              "    <tr style=\"text-align: right;\">\n",
              "      <th></th>\n",
              "      <th>PM10</th>\n",
              "      <th>PM2.5</th>\n",
              "      <th>O3</th>\n",
              "      <th>NO2</th>\n",
              "      <th>CO</th>\n",
              "      <th>SO2</th>\n",
              "      <th>DailyRain</th>\n",
              "      <th>강남구</th>\n",
              "      <th>강동구</th>\n",
              "      <th>강북구</th>\n",
              "      <th>...</th>\n",
              "      <th>서대문구</th>\n",
              "      <th>서초구</th>\n",
              "      <th>성동구</th>\n",
              "      <th>송파구</th>\n",
              "      <th>양천구</th>\n",
              "      <th>용산구</th>\n",
              "      <th>은평구</th>\n",
              "      <th>종로구</th>\n",
              "      <th>중구</th>\n",
              "      <th>중랑구</th>\n",
              "    </tr>\n",
              "  </thead>\n",
              "  <tbody>\n",
              "    <tr>\n",
              "      <th>0</th>\n",
              "      <td>21.0</td>\n",
              "      <td>10.0</td>\n",
              "      <td>0.0287</td>\n",
              "      <td>0.0130</td>\n",
              "      <td>0.38</td>\n",
              "      <td>0.0028</td>\n",
              "      <td>0.0</td>\n",
              "      <td>0</td>\n",
              "      <td>0</td>\n",
              "      <td>0</td>\n",
              "      <td>...</td>\n",
              "      <td>0</td>\n",
              "      <td>0</td>\n",
              "      <td>0</td>\n",
              "      <td>0</td>\n",
              "      <td>0</td>\n",
              "      <td>0</td>\n",
              "      <td>0</td>\n",
              "      <td>0</td>\n",
              "      <td>0</td>\n",
              "      <td>0</td>\n",
              "    </tr>\n",
              "    <tr>\n",
              "      <th>1</th>\n",
              "      <td>26.0</td>\n",
              "      <td>15.0</td>\n",
              "      <td>0.0194</td>\n",
              "      <td>0.0259</td>\n",
              "      <td>0.54</td>\n",
              "      <td>0.0025</td>\n",
              "      <td>0.0</td>\n",
              "      <td>0</td>\n",
              "      <td>0</td>\n",
              "      <td>0</td>\n",
              "      <td>...</td>\n",
              "      <td>0</td>\n",
              "      <td>0</td>\n",
              "      <td>0</td>\n",
              "      <td>0</td>\n",
              "      <td>0</td>\n",
              "      <td>0</td>\n",
              "      <td>0</td>\n",
              "      <td>0</td>\n",
              "      <td>0</td>\n",
              "      <td>0</td>\n",
              "    </tr>\n",
              "    <tr>\n",
              "      <th>2</th>\n",
              "      <td>28.0</td>\n",
              "      <td>20.0</td>\n",
              "      <td>0.0176</td>\n",
              "      <td>0.0333</td>\n",
              "      <td>0.62</td>\n",
              "      <td>0.0026</td>\n",
              "      <td>0.0</td>\n",
              "      <td>0</td>\n",
              "      <td>0</td>\n",
              "      <td>0</td>\n",
              "      <td>...</td>\n",
              "      <td>0</td>\n",
              "      <td>0</td>\n",
              "      <td>0</td>\n",
              "      <td>0</td>\n",
              "      <td>0</td>\n",
              "      <td>0</td>\n",
              "      <td>0</td>\n",
              "      <td>0</td>\n",
              "      <td>0</td>\n",
              "      <td>0</td>\n",
              "    </tr>\n",
              "    <tr>\n",
              "      <th>3</th>\n",
              "      <td>45.0</td>\n",
              "      <td>33.0</td>\n",
              "      <td>0.0107</td>\n",
              "      <td>0.0445</td>\n",
              "      <td>0.80</td>\n",
              "      <td>0.0028</td>\n",
              "      <td>0.0</td>\n",
              "      <td>0</td>\n",
              "      <td>0</td>\n",
              "      <td>0</td>\n",
              "      <td>...</td>\n",
              "      <td>0</td>\n",
              "      <td>0</td>\n",
              "      <td>0</td>\n",
              "      <td>0</td>\n",
              "      <td>0</td>\n",
              "      <td>0</td>\n",
              "      <td>0</td>\n",
              "      <td>0</td>\n",
              "      <td>0</td>\n",
              "      <td>0</td>\n",
              "    </tr>\n",
              "    <tr>\n",
              "      <th>4</th>\n",
              "      <td>66.0</td>\n",
              "      <td>54.0</td>\n",
              "      <td>0.0109</td>\n",
              "      <td>0.0453</td>\n",
              "      <td>0.88</td>\n",
              "      <td>0.0028</td>\n",
              "      <td>0.0</td>\n",
              "      <td>0</td>\n",
              "      <td>0</td>\n",
              "      <td>0</td>\n",
              "      <td>...</td>\n",
              "      <td>0</td>\n",
              "      <td>0</td>\n",
              "      <td>0</td>\n",
              "      <td>0</td>\n",
              "      <td>0</td>\n",
              "      <td>0</td>\n",
              "      <td>0</td>\n",
              "      <td>0</td>\n",
              "      <td>0</td>\n",
              "      <td>0</td>\n",
              "    </tr>\n",
              "    <tr>\n",
              "      <th>...</th>\n",
              "      <td>...</td>\n",
              "      <td>...</td>\n",
              "      <td>...</td>\n",
              "      <td>...</td>\n",
              "      <td>...</td>\n",
              "      <td>...</td>\n",
              "      <td>...</td>\n",
              "      <td>...</td>\n",
              "      <td>...</td>\n",
              "      <td>...</td>\n",
              "      <td>...</td>\n",
              "      <td>...</td>\n",
              "      <td>...</td>\n",
              "      <td>...</td>\n",
              "      <td>...</td>\n",
              "      <td>...</td>\n",
              "      <td>...</td>\n",
              "      <td>...</td>\n",
              "      <td>...</td>\n",
              "      <td>...</td>\n",
              "      <td>...</td>\n",
              "    </tr>\n",
              "    <tr>\n",
              "      <th>3118</th>\n",
              "      <td>17.0</td>\n",
              "      <td>11.0</td>\n",
              "      <td>0.0277</td>\n",
              "      <td>0.0178</td>\n",
              "      <td>0.31</td>\n",
              "      <td>0.0022</td>\n",
              "      <td>65.0</td>\n",
              "      <td>0</td>\n",
              "      <td>0</td>\n",
              "      <td>0</td>\n",
              "      <td>...</td>\n",
              "      <td>0</td>\n",
              "      <td>0</td>\n",
              "      <td>0</td>\n",
              "      <td>0</td>\n",
              "      <td>0</td>\n",
              "      <td>0</td>\n",
              "      <td>0</td>\n",
              "      <td>0</td>\n",
              "      <td>0</td>\n",
              "      <td>1</td>\n",
              "    </tr>\n",
              "    <tr>\n",
              "      <th>3119</th>\n",
              "      <td>37.0</td>\n",
              "      <td>11.0</td>\n",
              "      <td>0.0465</td>\n",
              "      <td>0.0174</td>\n",
              "      <td>0.32</td>\n",
              "      <td>0.0022</td>\n",
              "      <td>2.0</td>\n",
              "      <td>0</td>\n",
              "      <td>0</td>\n",
              "      <td>0</td>\n",
              "      <td>...</td>\n",
              "      <td>0</td>\n",
              "      <td>0</td>\n",
              "      <td>0</td>\n",
              "      <td>0</td>\n",
              "      <td>0</td>\n",
              "      <td>0</td>\n",
              "      <td>0</td>\n",
              "      <td>0</td>\n",
              "      <td>0</td>\n",
              "      <td>1</td>\n",
              "    </tr>\n",
              "    <tr>\n",
              "      <th>3120</th>\n",
              "      <td>35.0</td>\n",
              "      <td>21.0</td>\n",
              "      <td>0.0473</td>\n",
              "      <td>0.0204</td>\n",
              "      <td>0.37</td>\n",
              "      <td>0.0023</td>\n",
              "      <td>0.0</td>\n",
              "      <td>0</td>\n",
              "      <td>0</td>\n",
              "      <td>0</td>\n",
              "      <td>...</td>\n",
              "      <td>0</td>\n",
              "      <td>0</td>\n",
              "      <td>0</td>\n",
              "      <td>0</td>\n",
              "      <td>0</td>\n",
              "      <td>0</td>\n",
              "      <td>0</td>\n",
              "      <td>0</td>\n",
              "      <td>0</td>\n",
              "      <td>1</td>\n",
              "    </tr>\n",
              "    <tr>\n",
              "      <th>3121</th>\n",
              "      <td>33.0</td>\n",
              "      <td>22.0</td>\n",
              "      <td>0.0328</td>\n",
              "      <td>0.0198</td>\n",
              "      <td>0.31</td>\n",
              "      <td>0.0021</td>\n",
              "      <td>133.5</td>\n",
              "      <td>0</td>\n",
              "      <td>0</td>\n",
              "      <td>0</td>\n",
              "      <td>...</td>\n",
              "      <td>0</td>\n",
              "      <td>0</td>\n",
              "      <td>0</td>\n",
              "      <td>0</td>\n",
              "      <td>0</td>\n",
              "      <td>0</td>\n",
              "      <td>0</td>\n",
              "      <td>0</td>\n",
              "      <td>0</td>\n",
              "      <td>1</td>\n",
              "    </tr>\n",
              "    <tr>\n",
              "      <th>3122</th>\n",
              "      <td>35.0</td>\n",
              "      <td>25.0</td>\n",
              "      <td>0.0462</td>\n",
              "      <td>0.0260</td>\n",
              "      <td>0.41</td>\n",
              "      <td>0.0022</td>\n",
              "      <td>0.0</td>\n",
              "      <td>0</td>\n",
              "      <td>0</td>\n",
              "      <td>0</td>\n",
              "      <td>...</td>\n",
              "      <td>0</td>\n",
              "      <td>0</td>\n",
              "      <td>0</td>\n",
              "      <td>0</td>\n",
              "      <td>0</td>\n",
              "      <td>0</td>\n",
              "      <td>0</td>\n",
              "      <td>0</td>\n",
              "      <td>0</td>\n",
              "      <td>1</td>\n",
              "    </tr>\n",
              "  </tbody>\n",
              "</table>\n",
              "<p>3123 rows × 29 columns</p>\n",
              "</div>\n",
              "      <button class=\"colab-df-convert\" onclick=\"convertToInteractive('df-ca4878a4-e152-4b95-b5e8-93499811d077')\"\n",
              "              title=\"Convert this dataframe to an interactive table.\"\n",
              "              style=\"display:none;\">\n",
              "\n",
              "  <svg xmlns=\"http://www.w3.org/2000/svg\" height=\"24px\"viewBox=\"0 0 24 24\"\n",
              "       width=\"24px\">\n",
              "    <path d=\"M0 0h24v24H0V0z\" fill=\"none\"/>\n",
              "    <path d=\"M18.56 5.44l.94 2.06.94-2.06 2.06-.94-2.06-.94-.94-2.06-.94 2.06-2.06.94zm-11 1L8.5 8.5l.94-2.06 2.06-.94-2.06-.94L8.5 2.5l-.94 2.06-2.06.94zm10 10l.94 2.06.94-2.06 2.06-.94-2.06-.94-.94-2.06-.94 2.06-2.06.94z\"/><path d=\"M17.41 7.96l-1.37-1.37c-.4-.4-.92-.59-1.43-.59-.52 0-1.04.2-1.43.59L10.3 9.45l-7.72 7.72c-.78.78-.78 2.05 0 2.83L4 21.41c.39.39.9.59 1.41.59.51 0 1.02-.2 1.41-.59l7.78-7.78 2.81-2.81c.8-.78.8-2.07 0-2.86zM5.41 20L4 18.59l7.72-7.72 1.47 1.35L5.41 20z\"/>\n",
              "  </svg>\n",
              "      </button>\n",
              "\n",
              "\n",
              "\n",
              "    <div id=\"df-51fc1f39-5080-42fe-9e0b-4bb7eba5958e\">\n",
              "      <button class=\"colab-df-quickchart\" onclick=\"quickchart('df-51fc1f39-5080-42fe-9e0b-4bb7eba5958e')\"\n",
              "              title=\"Suggest charts.\"\n",
              "              style=\"display:none;\">\n",
              "\n",
              "<svg xmlns=\"http://www.w3.org/2000/svg\" height=\"24px\"viewBox=\"0 0 24 24\"\n",
              "     width=\"24px\">\n",
              "    <g>\n",
              "        <path d=\"M19 3H5c-1.1 0-2 .9-2 2v14c0 1.1.9 2 2 2h14c1.1 0 2-.9 2-2V5c0-1.1-.9-2-2-2zM9 17H7v-7h2v7zm4 0h-2V7h2v10zm4 0h-2v-4h2v4z\"/>\n",
              "    </g>\n",
              "</svg>\n",
              "      </button>\n",
              "    </div>\n",
              "\n",
              "<style>\n",
              "  .colab-df-quickchart {\n",
              "    background-color: #E8F0FE;\n",
              "    border: none;\n",
              "    border-radius: 50%;\n",
              "    cursor: pointer;\n",
              "    display: none;\n",
              "    fill: #1967D2;\n",
              "    height: 32px;\n",
              "    padding: 0 0 0 0;\n",
              "    width: 32px;\n",
              "  }\n",
              "\n",
              "  .colab-df-quickchart:hover {\n",
              "    background-color: #E2EBFA;\n",
              "    box-shadow: 0px 1px 2px rgba(60, 64, 67, 0.3), 0px 1px 3px 1px rgba(60, 64, 67, 0.15);\n",
              "    fill: #174EA6;\n",
              "  }\n",
              "\n",
              "  [theme=dark] .colab-df-quickchart {\n",
              "    background-color: #3B4455;\n",
              "    fill: #D2E3FC;\n",
              "  }\n",
              "\n",
              "  [theme=dark] .colab-df-quickchart:hover {\n",
              "    background-color: #434B5C;\n",
              "    box-shadow: 0px 1px 3px 1px rgba(0, 0, 0, 0.15);\n",
              "    filter: drop-shadow(0px 1px 2px rgba(0, 0, 0, 0.3));\n",
              "    fill: #FFFFFF;\n",
              "  }\n",
              "</style>\n",
              "\n",
              "    <script>\n",
              "      async function quickchart(key) {\n",
              "        const containerElement = document.querySelector('#' + key);\n",
              "        const charts = await google.colab.kernel.invokeFunction(\n",
              "            'suggestCharts', [key], {});\n",
              "      }\n",
              "    </script>\n",
              "\n",
              "      <script>\n",
              "\n",
              "function displayQuickchartButton(domScope) {\n",
              "  let quickchartButtonEl =\n",
              "    domScope.querySelector('#df-51fc1f39-5080-42fe-9e0b-4bb7eba5958e button.colab-df-quickchart');\n",
              "  quickchartButtonEl.style.display =\n",
              "    google.colab.kernel.accessAllowed ? 'block' : 'none';\n",
              "}\n",
              "\n",
              "        displayQuickchartButton(document);\n",
              "      </script>\n",
              "      <style>\n",
              "    .colab-df-container {\n",
              "      display:flex;\n",
              "      flex-wrap:wrap;\n",
              "      gap: 12px;\n",
              "    }\n",
              "\n",
              "    .colab-df-convert {\n",
              "      background-color: #E8F0FE;\n",
              "      border: none;\n",
              "      border-radius: 50%;\n",
              "      cursor: pointer;\n",
              "      display: none;\n",
              "      fill: #1967D2;\n",
              "      height: 32px;\n",
              "      padding: 0 0 0 0;\n",
              "      width: 32px;\n",
              "    }\n",
              "\n",
              "    .colab-df-convert:hover {\n",
              "      background-color: #E2EBFA;\n",
              "      box-shadow: 0px 1px 2px rgba(60, 64, 67, 0.3), 0px 1px 3px 1px rgba(60, 64, 67, 0.15);\n",
              "      fill: #174EA6;\n",
              "    }\n",
              "\n",
              "    [theme=dark] .colab-df-convert {\n",
              "      background-color: #3B4455;\n",
              "      fill: #D2E3FC;\n",
              "    }\n",
              "\n",
              "    [theme=dark] .colab-df-convert:hover {\n",
              "      background-color: #434B5C;\n",
              "      box-shadow: 0px 1px 3px 1px rgba(0, 0, 0, 0.15);\n",
              "      filter: drop-shadow(0px 1px 2px rgba(0, 0, 0, 0.3));\n",
              "      fill: #FFFFFF;\n",
              "    }\n",
              "  </style>\n",
              "\n",
              "      <script>\n",
              "        const buttonEl =\n",
              "          document.querySelector('#df-ca4878a4-e152-4b95-b5e8-93499811d077 button.colab-df-convert');\n",
              "        buttonEl.style.display =\n",
              "          google.colab.kernel.accessAllowed ? 'block' : 'none';\n",
              "\n",
              "        async function convertToInteractive(key) {\n",
              "          const element = document.querySelector('#df-ca4878a4-e152-4b95-b5e8-93499811d077');\n",
              "          const dataTable =\n",
              "            await google.colab.kernel.invokeFunction('convertToInteractive',\n",
              "                                                     [key], {});\n",
              "          if (!dataTable) return;\n",
              "\n",
              "          const docLinkHtml = 'Like what you see? Visit the ' +\n",
              "            '<a target=\"_blank\" href=https://colab.research.google.com/notebooks/data_table.ipynb>data table notebook</a>'\n",
              "            + ' to learn more about interactive tables.';\n",
              "          element.innerHTML = '';\n",
              "          dataTable['output_type'] = 'display_data';\n",
              "          await google.colab.output.renderOutput(dataTable, element);\n",
              "          const docLink = document.createElement('div');\n",
              "          docLink.innerHTML = docLinkHtml;\n",
              "          element.appendChild(docLink);\n",
              "        }\n",
              "      </script>\n",
              "    </div>\n",
              "  </div>\n"
            ]
          },
          "metadata": {},
          "execution_count": 140
        }
      ]
    },
    {
      "cell_type": "code",
      "source": [
        "column_means = X.mean().to_dict()\n",
        "column_means"
      ],
      "metadata": {
        "colab": {
          "base_uri": "https://localhost:8080/"
        },
        "id": "CfHmS_tCrMLb",
        "outputId": "13ed750f-dad8-4fac-e33f-8f6ff0a42e98"
      },
      "execution_count": null,
      "outputs": [
        {
          "output_type": "execute_result",
          "data": {
            "text/plain": [
              "{'PM10': 47.946525776496955,\n",
              " 'PM2.5': 22.991034261927634,\n",
              " 'O3': 0.03278895292987512,\n",
              " 'NO2': 0.02258181235991034,\n",
              " 'CO': 0.47253602305475506,\n",
              " 'SO2': 0.0029422350304194687,\n",
              " 'DailyRain': 4.9193083573487035,\n",
              " '강남구': 0.05347422350304195,\n",
              " '강동구': 0.05187319884726225,\n",
              " '강북구': 0.04771053474223503,\n",
              " '강서구': 0.05315401857188601,\n",
              " '관악구': 0.05219340377841819,\n",
              " '광진구': 0.04707012487992315,\n",
              " '구로구': 0.03266090297790586,\n",
              " '금천구': 0.03202049311559398,\n",
              " '노원구': 0.03234069804674992,\n",
              " '도봉구': 0.0313800832532821,\n",
              " '동작구': 0.03234069804674992,\n",
              " '마포구': 0.052513608709574125,\n",
              " '서대문구': 0.044508485430675634,\n",
              " '서초구': 0.05155299391610631,\n",
              " '성동구': 0.05315401857188601,\n",
              " '송파구': 0.05347422350304195,\n",
              " '양천구': 0.052833813640730067,\n",
              " '용산구': 0.05315401857188601,\n",
              " '은평구': 0.04707012487992315,\n",
              " '종로구': 0.051232788984950366,\n",
              " '중구': 0.041626641050272174,\n",
              " '중랑구': 0.03266090297790586}"
            ]
          },
          "metadata": {},
          "execution_count": 144
        }
      ]
    },
    {
      "cell_type": "code",
      "source": [
        "first_row_dict = X.iloc[0].to_dict()\n",
        "first_row_dict"
      ],
      "metadata": {
        "colab": {
          "base_uri": "https://localhost:8080/"
        },
        "id": "RlrdU5ylqruY",
        "outputId": "ee5a766d-3baa-47c3-f70a-41a006de2df9"
      },
      "execution_count": null,
      "outputs": [
        {
          "output_type": "execute_result",
          "data": {
            "text/plain": [
              "{'PM10': 21.0,\n",
              " 'PM2.5': 10.0,\n",
              " 'O3': 0.0287,\n",
              " 'NO2': 0.013,\n",
              " 'CO': 0.38,\n",
              " 'SO2': 0.0028,\n",
              " 'DailyRain': 0.0,\n",
              " '강남구': 0.0,\n",
              " '강동구': 0.0,\n",
              " '강북구': 0.0,\n",
              " '강서구': 0.0,\n",
              " '관악구': 0.0,\n",
              " '광진구': 0.0,\n",
              " '구로구': 0.0,\n",
              " '금천구': 0.0,\n",
              " '노원구': 0.0,\n",
              " '도봉구': 1.0,\n",
              " '동작구': 0.0,\n",
              " '마포구': 0.0,\n",
              " '서대문구': 0.0,\n",
              " '서초구': 0.0,\n",
              " '성동구': 0.0,\n",
              " '송파구': 0.0,\n",
              " '양천구': 0.0,\n",
              " '용산구': 0.0,\n",
              " '은평구': 0.0,\n",
              " '종로구': 0.0,\n",
              " '중구': 0.0,\n",
              " '중랑구': 0.0}"
            ]
          },
          "metadata": {},
          "execution_count": 142
        }
      ]
    },
    {
      "cell_type": "code",
      "source": [
        "new_row"
      ],
      "metadata": {
        "id": "FL2kYGh-LApV",
        "outputId": "129eb41e-4fb3-499b-ee5b-50cc54f931ef",
        "colab": {
          "base_uri": "https://localhost:8080/"
        }
      },
      "execution_count": null,
      "outputs": [
        {
          "output_type": "execute_result",
          "data": {
            "text/plain": [
              "{'PM10': 55.0,\n",
              " 'PM2.5': 22.991034261927634,\n",
              " 'O3': 0.03278895292987512,\n",
              " 'NO2': 0.02258181235991034,\n",
              " 'CO': 0.47253602305475506,\n",
              " 'SO2': 0.0029422350304194687,\n",
              " 'DailyRain': 4.9193083573487035,\n",
              " '강남구': 0.0,\n",
              " '강동구': 0.0,\n",
              " '강북구': 0.0,\n",
              " '강서구': 0.0,\n",
              " '관악구': 0.0,\n",
              " '광진구': 0.0,\n",
              " '구로구': 0.0,\n",
              " '금천구': 0.0,\n",
              " '노원구': 0.0,\n",
              " '도봉구': 0.0,\n",
              " '동작구': 0.0,\n",
              " '마포구': 0.0,\n",
              " '서대문구': 0.0,\n",
              " '서초구': 0.0,\n",
              " '성동구': 0.0,\n",
              " '송파구': 0.0,\n",
              " '양천구': 0.0,\n",
              " '용산구': 1.0,\n",
              " '은평구': 0.0,\n",
              " '종로구': 0.0,\n",
              " '중구': 0.0,\n",
              " '중랑구': 0.0}"
            ]
          },
          "metadata": {},
          "execution_count": 174
        }
      ]
    },
    {
      "cell_type": "code",
      "source": [],
      "metadata": {
        "id": "svOcWMciLDdw"
      },
      "execution_count": null,
      "outputs": []
    },
    {
      "cell_type": "code",
      "source": [],
      "metadata": {
        "id": "si1Q4busLBNM"
      },
      "execution_count": null,
      "outputs": []
    },
    {
      "cell_type": "code",
      "source": [
        "new_row = {'PM10': 55.0,\n",
        " 'PM2.5': 22.991034261927634,\n",
        " 'O3': 0.03278895292987512,\n",
        " 'NO2': 0.02258181235991034,\n",
        " 'CO': 0.47253602305475506,\n",
        " 'SO2': 0.0029422350304194687,\n",
        " 'DailyRain': 4.9193083573487035,\n",
        " '강남구': 0.0,\n",
        " '강동구': 0.0,\n",
        " '강북구': 0.0,\n",
        " '강서구': 0.0,\n",
        " '관악구': 0.0,\n",
        " '광진구': 0.0,\n",
        " '구로구': 0.0,\n",
        " '금천구': 0.0,\n",
        " '노원구': 0.0,\n",
        " '도봉구': 0.0,\n",
        " '동작구': 0.0,\n",
        " '마포구': 0.0,\n",
        " '서대문구': 0.0,\n",
        " '서초구': 0.0,\n",
        " '성동구': 0.0,\n",
        " '송파구': 0.0,\n",
        " '양천구': 0.0,\n",
        " '용산구': 1.0,\n",
        " '은평구': 0.0,\n",
        " '종로구': 0.0,\n",
        " '중구': 0.0,\n",
        " '중랑구': 0.0}\n",
        "X = X.append(new_row, ignore_index=True)"
      ],
      "metadata": {
        "id": "682O-wl-pLEO"
      },
      "execution_count": null,
      "outputs": []
    },
    {
      "cell_type": "code",
      "source": [],
      "metadata": {
        "id": "1pgLHUwxLC1z"
      },
      "execution_count": null,
      "outputs": []
    },
    {
      "cell_type": "code",
      "source": [
        "# 최종 예측\n",
        "print(\"오늘 용산구의 예상 유동인구는 \" + str(int(optimal_forest.predict(X)[-1:][0])) + \"명입니다\")"
      ],
      "metadata": {
        "colab": {
          "base_uri": "https://localhost:8080/"
        },
        "id": "BGoN3Y8RnKxE",
        "outputId": "34249c98-94b4-443c-8b4c-eb705f125fcf"
      },
      "execution_count": null,
      "outputs": [
        {
          "output_type": "stream",
          "name": "stdout",
          "text": [
            "오늘 용산구의 예상 유동인구는 39166명입니다\n"
          ]
        }
      ]
    },
    {
      "cell_type": "code",
      "source": [],
      "metadata": {
        "id": "H7sSsKuJoN0T"
      },
      "execution_count": null,
      "outputs": []
    },
    {
      "cell_type": "code",
      "source": [
        "# 튜닝\n",
        "param_grid = {'n_estimators':[500,1000,1500,2000],\n",
        "             'max_features':[2,4,6,8,10,12]}\n",
        "\n",
        "from sklearn.model_selection import GridSearchCV\n",
        "grid_search = GridSearchCV(forest,param_grid,cv=5,scoring='neg_root_mean_squared_error')\n",
        "grid_search.fit(X_train,y_train)"
      ],
      "metadata": {
        "colab": {
          "base_uri": "https://localhost:8080/",
          "height": 117
        },
        "id": "_7eOs4Ke_qFV",
        "outputId": "0be54176-d0b7-4dc6-f948-89c5f6c9dd57"
      },
      "execution_count": null,
      "outputs": [
        {
          "output_type": "execute_result",
          "data": {
            "text/plain": [
              "GridSearchCV(cv=5,\n",
              "             estimator=RandomForestRegressor(max_features=4, n_estimators=1000,\n",
              "                                             n_jobs=-1, random_state=0),\n",
              "             param_grid={'max_features': [2, 4, 6, 8, 10, 12],\n",
              "                         'n_estimators': [500, 1000, 1500, 2000]},\n",
              "             scoring='neg_root_mean_squared_error')"
            ],
            "text/html": [
              "<style>#sk-container-id-7 {color: black;background-color: white;}#sk-container-id-7 pre{padding: 0;}#sk-container-id-7 div.sk-toggleable {background-color: white;}#sk-container-id-7 label.sk-toggleable__label {cursor: pointer;display: block;width: 100%;margin-bottom: 0;padding: 0.3em;box-sizing: border-box;text-align: center;}#sk-container-id-7 label.sk-toggleable__label-arrow:before {content: \"▸\";float: left;margin-right: 0.25em;color: #696969;}#sk-container-id-7 label.sk-toggleable__label-arrow:hover:before {color: black;}#sk-container-id-7 div.sk-estimator:hover label.sk-toggleable__label-arrow:before {color: black;}#sk-container-id-7 div.sk-toggleable__content {max-height: 0;max-width: 0;overflow: hidden;text-align: left;background-color: #f0f8ff;}#sk-container-id-7 div.sk-toggleable__content pre {margin: 0.2em;color: black;border-radius: 0.25em;background-color: #f0f8ff;}#sk-container-id-7 input.sk-toggleable__control:checked~div.sk-toggleable__content {max-height: 200px;max-width: 100%;overflow: auto;}#sk-container-id-7 input.sk-toggleable__control:checked~label.sk-toggleable__label-arrow:before {content: \"▾\";}#sk-container-id-7 div.sk-estimator input.sk-toggleable__control:checked~label.sk-toggleable__label {background-color: #d4ebff;}#sk-container-id-7 div.sk-label input.sk-toggleable__control:checked~label.sk-toggleable__label {background-color: #d4ebff;}#sk-container-id-7 input.sk-hidden--visually {border: 0;clip: rect(1px 1px 1px 1px);clip: rect(1px, 1px, 1px, 1px);height: 1px;margin: -1px;overflow: hidden;padding: 0;position: absolute;width: 1px;}#sk-container-id-7 div.sk-estimator {font-family: monospace;background-color: #f0f8ff;border: 1px dotted black;border-radius: 0.25em;box-sizing: border-box;margin-bottom: 0.5em;}#sk-container-id-7 div.sk-estimator:hover {background-color: #d4ebff;}#sk-container-id-7 div.sk-parallel-item::after {content: \"\";width: 100%;border-bottom: 1px solid gray;flex-grow: 1;}#sk-container-id-7 div.sk-label:hover label.sk-toggleable__label {background-color: #d4ebff;}#sk-container-id-7 div.sk-serial::before {content: \"\";position: absolute;border-left: 1px solid gray;box-sizing: border-box;top: 0;bottom: 0;left: 50%;z-index: 0;}#sk-container-id-7 div.sk-serial {display: flex;flex-direction: column;align-items: center;background-color: white;padding-right: 0.2em;padding-left: 0.2em;position: relative;}#sk-container-id-7 div.sk-item {position: relative;z-index: 1;}#sk-container-id-7 div.sk-parallel {display: flex;align-items: stretch;justify-content: center;background-color: white;position: relative;}#sk-container-id-7 div.sk-item::before, #sk-container-id-7 div.sk-parallel-item::before {content: \"\";position: absolute;border-left: 1px solid gray;box-sizing: border-box;top: 0;bottom: 0;left: 50%;z-index: -1;}#sk-container-id-7 div.sk-parallel-item {display: flex;flex-direction: column;z-index: 1;position: relative;background-color: white;}#sk-container-id-7 div.sk-parallel-item:first-child::after {align-self: flex-end;width: 50%;}#sk-container-id-7 div.sk-parallel-item:last-child::after {align-self: flex-start;width: 50%;}#sk-container-id-7 div.sk-parallel-item:only-child::after {width: 0;}#sk-container-id-7 div.sk-dashed-wrapped {border: 1px dashed gray;margin: 0 0.4em 0.5em 0.4em;box-sizing: border-box;padding-bottom: 0.4em;background-color: white;}#sk-container-id-7 div.sk-label label {font-family: monospace;font-weight: bold;display: inline-block;line-height: 1.2em;}#sk-container-id-7 div.sk-label-container {text-align: center;}#sk-container-id-7 div.sk-container {/* jupyter's `normalize.less` sets `[hidden] { display: none; }` but bootstrap.min.css set `[hidden] { display: none !important; }` so we also need the `!important` here to be able to override the default hidden behavior on the sphinx rendered scikit-learn.org. See: https://github.com/scikit-learn/scikit-learn/issues/21755 */display: inline-block !important;position: relative;}#sk-container-id-7 div.sk-text-repr-fallback {display: none;}</style><div id=\"sk-container-id-7\" class=\"sk-top-container\"><div class=\"sk-text-repr-fallback\"><pre>GridSearchCV(cv=5,\n",
              "             estimator=RandomForestRegressor(max_features=4, n_estimators=1000,\n",
              "                                             n_jobs=-1, random_state=0),\n",
              "             param_grid={&#x27;max_features&#x27;: [2, 4, 6, 8, 10, 12],\n",
              "                         &#x27;n_estimators&#x27;: [500, 1000, 1500, 2000]},\n",
              "             scoring=&#x27;neg_root_mean_squared_error&#x27;)</pre><b>In a Jupyter environment, please rerun this cell to show the HTML representation or trust the notebook. <br />On GitHub, the HTML representation is unable to render, please try loading this page with nbviewer.org.</b></div><div class=\"sk-container\" hidden><div class=\"sk-item sk-dashed-wrapped\"><div class=\"sk-label-container\"><div class=\"sk-label sk-toggleable\"><input class=\"sk-toggleable__control sk-hidden--visually\" id=\"sk-estimator-id-9\" type=\"checkbox\" ><label for=\"sk-estimator-id-9\" class=\"sk-toggleable__label sk-toggleable__label-arrow\">GridSearchCV</label><div class=\"sk-toggleable__content\"><pre>GridSearchCV(cv=5,\n",
              "             estimator=RandomForestRegressor(max_features=4, n_estimators=1000,\n",
              "                                             n_jobs=-1, random_state=0),\n",
              "             param_grid={&#x27;max_features&#x27;: [2, 4, 6, 8, 10, 12],\n",
              "                         &#x27;n_estimators&#x27;: [500, 1000, 1500, 2000]},\n",
              "             scoring=&#x27;neg_root_mean_squared_error&#x27;)</pre></div></div></div><div class=\"sk-parallel\"><div class=\"sk-parallel-item\"><div class=\"sk-item\"><div class=\"sk-label-container\"><div class=\"sk-label sk-toggleable\"><input class=\"sk-toggleable__control sk-hidden--visually\" id=\"sk-estimator-id-10\" type=\"checkbox\" ><label for=\"sk-estimator-id-10\" class=\"sk-toggleable__label sk-toggleable__label-arrow\">estimator: RandomForestRegressor</label><div class=\"sk-toggleable__content\"><pre>RandomForestRegressor(max_features=4, n_estimators=1000, n_jobs=-1,\n",
              "                      random_state=0)</pre></div></div></div><div class=\"sk-serial\"><div class=\"sk-item\"><div class=\"sk-estimator sk-toggleable\"><input class=\"sk-toggleable__control sk-hidden--visually\" id=\"sk-estimator-id-11\" type=\"checkbox\" ><label for=\"sk-estimator-id-11\" class=\"sk-toggleable__label sk-toggleable__label-arrow\">RandomForestRegressor</label><div class=\"sk-toggleable__content\"><pre>RandomForestRegressor(max_features=4, n_estimators=1000, n_jobs=-1,\n",
              "                      random_state=0)</pre></div></div></div></div></div></div></div></div></div></div>"
            ]
          },
          "metadata": {},
          "execution_count": 104
        }
      ]
    },
    {
      "cell_type": "code",
      "source": [
        "grid_search.best_params_"
      ],
      "metadata": {
        "colab": {
          "base_uri": "https://localhost:8080/"
        },
        "id": "hshInKPT_9tt",
        "outputId": "33965df5-3c82-4c52-d9be-342bc72ebdc3"
      },
      "execution_count": null,
      "outputs": [
        {
          "output_type": "execute_result",
          "data": {
            "text/plain": [
              "{'max_features': 12, 'n_estimators': 2000}"
            ]
          },
          "metadata": {},
          "execution_count": 105
        }
      ]
    },
    {
      "cell_type": "code",
      "source": [
        "# grid_search.predict(X_test)\n",
        "y_train_pred = grid_search.predict(X_train)\n",
        "y_test_pred = grid_search.predict(X_test)\n",
        "\n",
        "# 학습한 모델을 평가합니다.\n",
        "print('MSE train: %.3f, test: %.3f' % (\n",
        "        mean_squared_error(y_train, y_train_pred),\n",
        "        mean_squared_error(y_test, y_test_pred)))\n",
        "print('R^2 train: %.3f, test: %.3f' % (\n",
        "        r2_score(y_train, y_train_pred),\n",
        "        r2_score(y_test, y_test_pred)))"
      ],
      "metadata": {
        "colab": {
          "base_uri": "https://localhost:8080/"
        },
        "id": "i1WuROtaEWp3",
        "outputId": "b21b93e6-90c4-49ed-fb59-a9da4b686048"
      },
      "execution_count": null,
      "outputs": [
        {
          "output_type": "stream",
          "name": "stdout",
          "text": [
            "MSE train: 95797688.761, test: 730019070.028\n",
            "R^2 train: 0.952, test: 0.632\n"
          ]
        }
      ]
    },
    {
      "cell_type": "markdown",
      "source": [
        "- 유동인구를 진짜 숫자가 아니라 비중으로()"
      ],
      "metadata": {
        "id": "7fpw9eZKAEqB"
      }
    },
    {
      "cell_type": "code",
      "source": [
        "# from sklearn.model_selection import train_test_split\n",
        "# from sklearn.feature_extraction import DictVectorizer\n",
        "# from sklearn.ensemble import RandomForestRegressor\n",
        "# from sklearn.metrics import r2_score\n",
        "# from sklearn.metrics import mean_squared_error\n",
        "\n",
        "# # 데이터를 학습/테스트용 데이터로 분리합니다.\n",
        "# #X_train, X_test, y_train, y_test = train_test_split(X, y, test_size=0.2, random_state=42) #깃허브에서는 사이즈를 0.3으로 둠 validation을 안 한듯\n",
        "# X_train, X_val, X_test, y_train, y_val, y_test = load_and_split_data(data)\n",
        "# ## X = df.loc[:, df.columns != 'price']\n",
        "\n",
        "# # 랜덤 포레스트 모델을 학습합니다.\n",
        "# forest = RandomForestRegressor(n_estimators=1000,\n",
        "#                                criterion='squared_error') #깃허브에서는 criterion='mse'로 둠 -> 이러니까 오류떠서 수정함\n",
        "# forest.fit(X_train, y_train)\n",
        "# y_train_pred = forest.predict(X_train)\n",
        "# y_test_pred = forest.predict(X_test)\n",
        "\n",
        "# # 학습한 모델을 평가합니다.\n",
        "# print('MSE train: %.3f, test: %.3f' % (\n",
        "#         mean_squared_error(y_train, y_train_pred),\n",
        "#         mean_squared_error(y_test, y_test_pred)))\n",
        "# print('R^2 train: %.3f, test: %.3f' % (\n",
        "#         r2_score(y_train, y_train_pred),\n",
        "#         r2_score(y_test, y_test_pred)))"
      ],
      "metadata": {
        "colab": {
          "base_uri": "https://localhost:8080/"
        },
        "id": "OQmZ2hw4S3o2",
        "outputId": "b49577ef-ba29-4927-f667-454c7743fd4a"
      },
      "execution_count": null,
      "outputs": [
        {
          "output_type": "stream",
          "name": "stdout",
          "text": [
            "MSE train: 322731094.954, test: 2475634624.179\n",
            "R^2 train: 0.912, test: 0.140\n"
          ]
        }
      ]
    },
    {
      "cell_type": "code",
      "source": [
        "plt.scatter(y_test.values, y_test_pred)"
      ],
      "metadata": {
        "colab": {
          "base_uri": "https://localhost:8080/",
          "height": 448
        },
        "id": "m7Ea4q_QXEfp",
        "outputId": "73e9264f-c235-4e06-d079-844e82223485"
      },
      "execution_count": null,
      "outputs": [
        {
          "output_type": "execute_result",
          "data": {
            "text/plain": [
              "<matplotlib.collections.PathCollection at 0x7cf70b8e3b20>"
            ]
          },
          "metadata": {},
          "execution_count": 112
        },
        {
          "output_type": "display_data",
          "data": {
            "text/plain": [
              "<Figure size 640x480 with 1 Axes>"
            ],
            "image/png": "[encoded data removed]"
          },
          "metadata": {}
        }
      ]
    },
    {
      "cell_type": "code",
      "source": [
        "# 랜덤 포레스트 모델을 학습하고 평가합니다.\n",
        "forest = RandomForestRegressor(n_estimators=1000,\n",
        "                               criterion='squared_error')\n",
        "forest.fit(X_train, y_train)\n",
        "y_train_pred = forest.predict(X_train)\n",
        "y_test_pred = forest.predict(X_test)\n",
        "print('MSE train: %.3f, test: %.3f' % (\n",
        "        mean_squared_error(y_train, y_train_pred),\n",
        "        mean_squared_error(y_test, y_test_pred)))\n",
        "print('R^2 train: %.3f, test: %.3f' % (\n",
        "        r2_score(y_train, y_train_pred),\n",
        "        r2_score(y_test, y_test_pred)))\n",
        "\n",
        "# 피처 중요도 plot을 출력합니다.\n",
        "importances = forest.feature_importances_\n",
        "plt.plot(importances, \"o\")\n",
        "\n",
        "# 피처 중요도를 print로 출력합니다.\n",
        "print(\"\\n피처 중요도\")\n",
        "feat_labels = data.columns.tolist() # 깃허브에서는 X.columns로 사용함, 'feat_labels' 변수는 'X' DataFrame의 열 이름을 리스트로 저장\n",
        "# 'X'는 데이터의 입력 피처를 포함하는 DataFrame\n",
        "feature = list(zip(feat_labels, forest.feature_importances_))\n",
        "sorted(feature, key=lambda tup: tup[1], reverse=True)[:10]\n",
        "\n",
        "# MSE: 작을수록 굳\n",
        "# R^2 (0 ~ 1): 1에 가까울수록 굳"
      ],
      "metadata": {
        "colab": {
          "base_uri": "https://localhost:8080/",
          "height": 648
        },
        "id": "odNHw0VGX3EG",
        "outputId": "1e4245be-ae09-4ff3-d574-9e83311a26ee"
      },
      "execution_count": null,
      "outputs": [
        {
          "output_type": "stream",
          "name": "stdout",
          "text": [
            "MSE train: 316784210.415, test: 2396000719.326\n",
            "R^2 train: 0.913, test: 0.168\n",
            "\n",
            "피처 중요도\n",
            "\n"
          ]
        },
        {
          "output_type": "execute_result",
          "data": {
            "text/plain": [
              "[('Unnamed: 0', 0.24591439037351792),\n",
              " ('Gu', 0.23960676597985303),\n",
              " ('Date', 0.16250749932303366),\n",
              " ('PM2.5', 0.11990552776524659),\n",
              " ('O3', 0.10438287266166912),\n",
              " ('PM10', 0.08692337308391385),\n",
              " ('NO2', 0.04075957081276601)]"
            ]
          },
          "metadata": {},
          "execution_count": 113
        },
        {
          "output_type": "display_data",
          "data": {
            "text/plain": [
              "<Figure size 640x480 with 1 Axes>"
            ],
            "image/png": "[encoded data removed]"
          },
          "metadata": {}
        }
      ]
    },
    {
      "cell_type": "code",
      "source": [
        "# 학습한 모델의 피처 중요도를 그래프로 살펴봅니다.\n",
        "importances = forest.feature_importances_\n",
        "indices = np.argsort(importances)[::-1]\n",
        "plt.bar(range(data.shape[1]), importances[indices])\n",
        "\n",
        "# 학습한 모델의 피처 중요도를 출력합니다.\n",
        "feat_labels = data.columns.tolist()\n",
        "feature = list(zip(feat_labels, forest.feature_importances_))\n",
        "sorted(feature, key=lambda tup: tup[1], reverse=True)[:10]"
      ],
      "metadata": {
        "colab": {
          "base_uri": "https://localhost:8080/",
          "height": 814
        },
        "id": "41vvaAKocGJp",
        "outputId": "1f4c8258-f8c5-4525-bebe-565bbf657176"
      },
      "execution_count": null,
      "outputs": [
        {
          "output_type": "error",
          "ename": "ValueError",
          "evalue": "ignored",
          "traceback": [
            "\u001b[0;31m---------------------------------------------------------------------------\u001b[0m",
            "\u001b[0;31mValueError\u001b[0m                                Traceback (most recent call last)",
            "\u001b[0;32m<ipython-input-117-003ed858bc34>\u001b[0m in \u001b[0;36m<cell line: 4>\u001b[0;34m()\u001b[0m\n\u001b[1;32m      2\u001b[0m \u001b[0mimportances\u001b[0m \u001b[0;34m=\u001b[0m \u001b[0mforest\u001b[0m\u001b[0;34m.\u001b[0m\u001b[0mfeature_importances_\u001b[0m\u001b[0;34m\u001b[0m\u001b[0;34m\u001b[0m\u001b[0m\n\u001b[1;32m      3\u001b[0m \u001b[0mindices\u001b[0m \u001b[0;34m=\u001b[0m \u001b[0mnp\u001b[0m\u001b[0;34m.\u001b[0m\u001b[0margsort\u001b[0m\u001b[0;34m(\u001b[0m\u001b[0mimportances\u001b[0m\u001b[0;34m)\u001b[0m\u001b[0;34m[\u001b[0m\u001b[0;34m:\u001b[0m\u001b[0;34m:\u001b[0m\u001b[0;34m-\u001b[0m\u001b[0;36m1\u001b[0m\u001b[0;34m]\u001b[0m\u001b[0;34m\u001b[0m\u001b[0;34m\u001b[0m\u001b[0m\n\u001b[0;32m----> 4\u001b[0;31m \u001b[0mplt\u001b[0m\u001b[0;34m.\u001b[0m\u001b[0mbar\u001b[0m\u001b[0;34m(\u001b[0m\u001b[0mrange\u001b[0m\u001b[0;34m(\u001b[0m\u001b[0mdata\u001b[0m\u001b[0;34m.\u001b[0m\u001b[0mshape\u001b[0m\u001b[0;34m[\u001b[0m\u001b[0;36m1\u001b[0m\u001b[0;34m]\u001b[0m\u001b[0;34m)\u001b[0m\u001b[0;34m,\u001b[0m \u001b[0mimportances\u001b[0m\u001b[0;34m[\u001b[0m\u001b[0mindices\u001b[0m\u001b[0;34m]\u001b[0m\u001b[0;34m)\u001b[0m\u001b[0;34m\u001b[0m\u001b[0;34m\u001b[0m\u001b[0m\n\u001b[0m\u001b[1;32m      5\u001b[0m \u001b[0;34m\u001b[0m\u001b[0m\n\u001b[1;32m      6\u001b[0m \u001b[0;31m# 학습한 모델의 피처 중요도를 출력합니다.\u001b[0m\u001b[0;34m\u001b[0m\u001b[0;34m\u001b[0m\u001b[0m\n",
            "\u001b[0;32m/usr/local/lib/python3.10/dist-packages/matplotlib/pyplot.py\u001b[0m in \u001b[0;36mbar\u001b[0;34m(x, height, width, bottom, align, data, **kwargs)\u001b[0m\n\u001b[1;32m   2437\u001b[0m         \u001b[0mx\u001b[0m\u001b[0;34m,\u001b[0m \u001b[0mheight\u001b[0m\u001b[0;34m,\u001b[0m \u001b[0mwidth\u001b[0m\u001b[0;34m=\u001b[0m\u001b[0;36m0.8\u001b[0m\u001b[0;34m,\u001b[0m \u001b[0mbottom\u001b[0m\u001b[0;34m=\u001b[0m\u001b[0;32mNone\u001b[0m\u001b[0;34m,\u001b[0m \u001b[0;34m*\u001b[0m\u001b[0;34m,\u001b[0m \u001b[0malign\u001b[0m\u001b[0;34m=\u001b[0m\u001b[0;34m'center'\u001b[0m\u001b[0;34m,\u001b[0m\u001b[0;34m\u001b[0m\u001b[0;34m\u001b[0m\u001b[0m\n\u001b[1;32m   2438\u001b[0m         data=None, **kwargs):\n\u001b[0;32m-> 2439\u001b[0;31m     return gca().bar(\n\u001b[0m\u001b[1;32m   2440\u001b[0m         \u001b[0mx\u001b[0m\u001b[0;34m,\u001b[0m \u001b[0mheight\u001b[0m\u001b[0;34m,\u001b[0m \u001b[0mwidth\u001b[0m\u001b[0;34m=\u001b[0m\u001b[0mwidth\u001b[0m\u001b[0;34m,\u001b[0m \u001b[0mbottom\u001b[0m\u001b[0;34m=\u001b[0m\u001b[0mbottom\u001b[0m\u001b[0;34m,\u001b[0m \u001b[0malign\u001b[0m\u001b[0;34m=\u001b[0m\u001b[0malign\u001b[0m\u001b[0;34m,\u001b[0m\u001b[0;34m\u001b[0m\u001b[0;34m\u001b[0m\u001b[0m\n\u001b[1;32m   2441\u001b[0m         **({\"data\": data} if data is not None else {}), **kwargs)\n",
            "\u001b[0;32m/usr/local/lib/python3.10/dist-packages/matplotlib/__init__.py\u001b[0m in \u001b[0;36minner\u001b[0;34m(ax, data, *args, **kwargs)\u001b[0m\n\u001b[1;32m   1440\u001b[0m     \u001b[0;32mdef\u001b[0m \u001b[0minner\u001b[0m\u001b[0;34m(\u001b[0m\u001b[0max\u001b[0m\u001b[0;34m,\u001b[0m \u001b[0;34m*\u001b[0m\u001b[0margs\u001b[0m\u001b[0;34m,\u001b[0m \u001b[0mdata\u001b[0m\u001b[0;34m=\u001b[0m\u001b[0;32mNone\u001b[0m\u001b[0;34m,\u001b[0m \u001b[0;34m**\u001b[0m\u001b[0mkwargs\u001b[0m\u001b[0;34m)\u001b[0m\u001b[0;34m:\u001b[0m\u001b[0;34m\u001b[0m\u001b[0;34m\u001b[0m\u001b[0m\n\u001b[1;32m   1441\u001b[0m         \u001b[0;32mif\u001b[0m \u001b[0mdata\u001b[0m \u001b[0;32mis\u001b[0m \u001b[0;32mNone\u001b[0m\u001b[0;34m:\u001b[0m\u001b[0;34m\u001b[0m\u001b[0;34m\u001b[0m\u001b[0m\n\u001b[0;32m-> 1442\u001b[0;31m             \u001b[0;32mreturn\u001b[0m \u001b[0mfunc\u001b[0m\u001b[0;34m(\u001b[0m\u001b[0max\u001b[0m\u001b[0;34m,\u001b[0m \u001b[0;34m*\u001b[0m\u001b[0mmap\u001b[0m\u001b[0;34m(\u001b[0m\u001b[0msanitize_sequence\u001b[0m\u001b[0;34m,\u001b[0m \u001b[0margs\u001b[0m\u001b[0;34m)\u001b[0m\u001b[0;34m,\u001b[0m \u001b[0;34m**\u001b[0m\u001b[0mkwargs\u001b[0m\u001b[0;34m)\u001b[0m\u001b[0;34m\u001b[0m\u001b[0;34m\u001b[0m\u001b[0m\n\u001b[0m\u001b[1;32m   1443\u001b[0m \u001b[0;34m\u001b[0m\u001b[0m\n\u001b[1;32m   1444\u001b[0m         \u001b[0mbound\u001b[0m \u001b[0;34m=\u001b[0m \u001b[0mnew_sig\u001b[0m\u001b[0;34m.\u001b[0m\u001b[0mbind\u001b[0m\u001b[0;34m(\u001b[0m\u001b[0max\u001b[0m\u001b[0;34m,\u001b[0m \u001b[0;34m*\u001b[0m\u001b[0margs\u001b[0m\u001b[0;34m,\u001b[0m \u001b[0;34m**\u001b[0m\u001b[0mkwargs\u001b[0m\u001b[0;34m)\u001b[0m\u001b[0;34m\u001b[0m\u001b[0;34m\u001b[0m\u001b[0m\n",
            "\u001b[0;32m/usr/local/lib/python3.10/dist-packages/matplotlib/axes/_axes.py\u001b[0m in \u001b[0;36mbar\u001b[0;34m(self, x, height, width, bottom, align, **kwargs)\u001b[0m\n\u001b[1;32m   2415\u001b[0m                 \u001b[0myerr\u001b[0m \u001b[0;34m=\u001b[0m \u001b[0mself\u001b[0m\u001b[0;34m.\u001b[0m\u001b[0m_convert_dx\u001b[0m\u001b[0;34m(\u001b[0m\u001b[0myerr\u001b[0m\u001b[0;34m,\u001b[0m \u001b[0my0\u001b[0m\u001b[0;34m,\u001b[0m \u001b[0my\u001b[0m\u001b[0;34m,\u001b[0m \u001b[0mself\u001b[0m\u001b[0;34m.\u001b[0m\u001b[0mconvert_yunits\u001b[0m\u001b[0;34m)\u001b[0m\u001b[0;34m\u001b[0m\u001b[0;34m\u001b[0m\u001b[0m\n\u001b[1;32m   2416\u001b[0m \u001b[0;34m\u001b[0m\u001b[0m\n\u001b[0;32m-> 2417\u001b[0;31m         x, height, width, y, linewidth, hatch = np.broadcast_arrays(\n\u001b[0m\u001b[1;32m   2418\u001b[0m             \u001b[0;31m# Make args iterable too.\u001b[0m\u001b[0;34m\u001b[0m\u001b[0;34m\u001b[0m\u001b[0m\n\u001b[1;32m   2419\u001b[0m             np.atleast_1d(x), height, width, y, linewidth, hatch)\n",
            "\u001b[0;32m/usr/local/lib/python3.10/dist-packages/numpy/core/overrides.py\u001b[0m in \u001b[0;36mbroadcast_arrays\u001b[0;34m(*args, **kwargs)\u001b[0m\n",
            "\u001b[0;32m/usr/local/lib/python3.10/dist-packages/numpy/lib/stride_tricks.py\u001b[0m in \u001b[0;36mbroadcast_arrays\u001b[0;34m(subok, *args)\u001b[0m\n\u001b[1;32m    537\u001b[0m     \u001b[0margs\u001b[0m \u001b[0;34m=\u001b[0m \u001b[0;34m[\u001b[0m\u001b[0mnp\u001b[0m\u001b[0;34m.\u001b[0m\u001b[0marray\u001b[0m\u001b[0;34m(\u001b[0m\u001b[0m_m\u001b[0m\u001b[0;34m,\u001b[0m \u001b[0mcopy\u001b[0m\u001b[0;34m=\u001b[0m\u001b[0;32mFalse\u001b[0m\u001b[0;34m,\u001b[0m \u001b[0msubok\u001b[0m\u001b[0;34m=\u001b[0m\u001b[0msubok\u001b[0m\u001b[0;34m)\u001b[0m \u001b[0;32mfor\u001b[0m \u001b[0m_m\u001b[0m \u001b[0;32min\u001b[0m \u001b[0margs\u001b[0m\u001b[0;34m]\u001b[0m\u001b[0;34m\u001b[0m\u001b[0;34m\u001b[0m\u001b[0m\n\u001b[1;32m    538\u001b[0m \u001b[0;34m\u001b[0m\u001b[0m\n\u001b[0;32m--> 539\u001b[0;31m     \u001b[0mshape\u001b[0m \u001b[0;34m=\u001b[0m \u001b[0m_broadcast_shape\u001b[0m\u001b[0;34m(\u001b[0m\u001b[0;34m*\u001b[0m\u001b[0margs\u001b[0m\u001b[0;34m)\u001b[0m\u001b[0;34m\u001b[0m\u001b[0;34m\u001b[0m\u001b[0m\n\u001b[0m\u001b[1;32m    540\u001b[0m \u001b[0;34m\u001b[0m\u001b[0m\n\u001b[1;32m    541\u001b[0m     \u001b[0;32mif\u001b[0m \u001b[0mall\u001b[0m\u001b[0;34m(\u001b[0m\u001b[0marray\u001b[0m\u001b[0;34m.\u001b[0m\u001b[0mshape\u001b[0m \u001b[0;34m==\u001b[0m \u001b[0mshape\u001b[0m \u001b[0;32mfor\u001b[0m \u001b[0marray\u001b[0m \u001b[0;32min\u001b[0m \u001b[0margs\u001b[0m\u001b[0;34m)\u001b[0m\u001b[0;34m:\u001b[0m\u001b[0;34m\u001b[0m\u001b[0;34m\u001b[0m\u001b[0m\n",
            "\u001b[0;32m/usr/local/lib/python3.10/dist-packages/numpy/lib/stride_tricks.py\u001b[0m in \u001b[0;36m_broadcast_shape\u001b[0;34m(*args)\u001b[0m\n\u001b[1;32m    419\u001b[0m     \u001b[0;31m# use the old-iterator because np.nditer does not handle size 0 arrays\u001b[0m\u001b[0;34m\u001b[0m\u001b[0;34m\u001b[0m\u001b[0m\n\u001b[1;32m    420\u001b[0m     \u001b[0;31m# consistently\u001b[0m\u001b[0;34m\u001b[0m\u001b[0;34m\u001b[0m\u001b[0m\n\u001b[0;32m--> 421\u001b[0;31m     \u001b[0mb\u001b[0m \u001b[0;34m=\u001b[0m \u001b[0mnp\u001b[0m\u001b[0;34m.\u001b[0m\u001b[0mbroadcast\u001b[0m\u001b[0;34m(\u001b[0m\u001b[0;34m*\u001b[0m\u001b[0margs\u001b[0m\u001b[0;34m[\u001b[0m\u001b[0;34m:\u001b[0m\u001b[0;36m32\u001b[0m\u001b[0;34m]\u001b[0m\u001b[0;34m)\u001b[0m\u001b[0;34m\u001b[0m\u001b[0;34m\u001b[0m\u001b[0m\n\u001b[0m\u001b[1;32m    422\u001b[0m     \u001b[0;31m# unfortunately, it cannot handle 32 or more arguments directly\u001b[0m\u001b[0;34m\u001b[0m\u001b[0;34m\u001b[0m\u001b[0m\n\u001b[1;32m    423\u001b[0m     \u001b[0;32mfor\u001b[0m \u001b[0mpos\u001b[0m \u001b[0;32min\u001b[0m \u001b[0mrange\u001b[0m\u001b[0;34m(\u001b[0m\u001b[0;36m32\u001b[0m\u001b[0;34m,\u001b[0m \u001b[0mlen\u001b[0m\u001b[0;34m(\u001b[0m\u001b[0margs\u001b[0m\u001b[0;34m)\u001b[0m\u001b[0;34m,\u001b[0m \u001b[0;36m31\u001b[0m\u001b[0;34m)\u001b[0m\u001b[0;34m:\u001b[0m\u001b[0;34m\u001b[0m\u001b[0;34m\u001b[0m\u001b[0m\n",
            "\u001b[0;31mValueError\u001b[0m: shape mismatch: objects cannot be broadcast to a single shape.  Mismatch is between arg 0 with shape (13,) and arg 1 with shape (7,)."
          ]
        },
        {
          "output_type": "display_data",
          "data": {
            "text/plain": [
              "<Figure size 640x480 with 1 Axes>"
            ],
            "image/png": "[encoded data removed]"
          },
          "metadata": {}
        }
      ]
    },
    {
      "cell_type": "code",
      "source": [
        "\"오늘 용산구의 예상 유동인구는 n명입니다\""
      ],
      "metadata": {
        "colab": {
          "base_uri": "https://localhost:8080/",
          "height": 35
        },
        "id": "CtHanPwOXlwi",
        "outputId": "96416c31-6935-43f4-8e88-3d7ac9274cb4"
      },
      "execution_count": null,
      "outputs": [
        {
          "output_type": "execute_result",
          "data": {
            "text/plain": [
              "'오늘 용산구의 예상 유동인구는 n명입니다'"
            ],
            "application/vnd.google.colaboratory.intrinsic+json": {
              "type": "string"
            }
          },
          "metadata": {},
          "execution_count": 114
        }
      ]
    },
    {
      "cell_type": "code",
      "source": [],
      "metadata": {
        "id": "HvmJPereXm7h"
      },
      "execution_count": null,
      "outputs": []
    }
  ]
}